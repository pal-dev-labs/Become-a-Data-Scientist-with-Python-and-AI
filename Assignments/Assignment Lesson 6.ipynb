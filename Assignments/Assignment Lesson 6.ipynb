{
 "cells": [
  {
   "cell_type": "markdown",
   "metadata": {},
   "source": [
    "## INSTRUCTIONS\n",
    "- Try to write the code by yourself based on basic instructions provided in the previous notebook.\n",
    "- Run the cell and, in case, try to fix the error comparing with code in notebooks. This phase is IMPORTANT to fix in memory commands and syntax\n",
    "- If you still have problems, **go to ChatGPT** and write \"create a python code that perform ..exercise..instructions\". Cut and paste the code in a new notebook cell \n",
    "- Customize the code if necessary and run it. \n",
    "- IMPORTANT: go through each single instructions of the new code and try to execute mentally the code in order to understand the flow of the program and the meaning of the commands. There are 2 goals here. First: fix commands meaning and syntax. Second: understand solution strategy\n",
    "- COMPARE the new code with previous code in order to understand the errors you made\n",
    "\n",
    "You can also go to stackoverflow to ask question about python code."
   ]
  },
  {
   "cell_type": "markdown",
   "metadata": {},
   "source": [
    "# Python Exercises with Loops and Conditional Statements (Physics & Mathematics)\n",
    "\n",
    "## 1. Sum of First N Natural Numbers\n",
    "Write a Python program that asks the user for a number `N` and calculates the sum of the first `N` natural numbers using a `for` loop.\n",
    "\n",
    "## 2. Factorial Calculation\n",
    "Write a Python program that calculates the factorial of a given number `N`. The program should use a `for` loop.\n",
    "\n",
    "## 3. Prime Number Checker\n",
    "Write a Python program that asks the user for a number and checks if it is prime. Use a `for` loop to check divisibility and `if-else` statements to determine if it is prime.\n",
    "\n",
    "## 4. Fibonacci Series\n",
    "Write a Python program that prints the first `N` terms of the Fibonacci sequence using a `for` loop. The user should input `N`.\n",
    "\n",
    "## 5. Arithmetic Progression (AP) Sum\n",
    "Write a Python program that asks the user for the first term `a`, common difference `d`, and number of terms `N`, then calculates the sum of the arithmetic progression using a `for` loop.\n",
    "\n",
    "## 6. Motion Under Constant Acceleration\n",
    "Write a Python program that calculates the position of an object at different times given an initial velocity `v0`, acceleration `a`, and a time interval. Use `for` loops and `if-else` to handle cases where the object changes direction.\n",
    "\n",
    "## 7. Projectile Motion\n",
    "Write a Python program that asks for the initial velocity `v0` and angle `θ` and prints the trajectory (height at different time intervals) of a projectile using a `for` loop.\n",
    "\n",
    "## 8. Ohm’s Law Verification\n",
    "Write a Python program that asks for a range of voltage values and a constant resistance. The program should calculate the corresponding current using `I = V/R` and classify it as low, medium, or high using `if-elif-else`.\n",
    "\n",
    "## 9. Harmonic Series Approximation\n",
    "Write a Python program that approximates the sum of the harmonic series up to `N` terms using a `for` loop: \n",
    "$$ S_N = 1 + \\frac{1}{2} + \\frac{1}{3} + ... + \\frac{1}{N} $$\n",
    "\n",
    "## 10. Sorting a List of Numbers\n",
    "Write a Python program that sorts a list of numbers entered by the user using a simple selection sort algorithm, which employs nested `for` loops.\n",
    "\n",
    "## 11. Counting Vowels in a String\n",
    "Write a Python program that takes a user-input string and counts the number of vowels (`a, e, i, o, u`). Use a `for` loop to iterate through the characters and an `if` statement to check if a character is a vowel.\n",
    "\n",
    "## 12. Word Length Classification\n",
    "Write a Python program that takes a sentence from the user and categorizes words based on their length: short (1-4 letters), medium (5-7 letters), and long (8+ letters). Use a `for` loop and `if-elif-else` conditions.\n",
    "\n",
    "## 13. Password Strength Checker\n",
    "Write a Python program that takes a user-input password and evaluates its strength based on length and character variety (numbers, uppercase, lowercase, special characters). Use a `for` loop and `if-elif-else` to classify the password as weak, moderate, or strong.\n",
    "```"
   ]
  },
  {
   "cell_type": "markdown",
   "metadata": {},
   "source": []
  }
 ],
 "metadata": {
  "language_info": {
   "name": "python"
  }
 },
 "nbformat": 4,
 "nbformat_minor": 2
}
