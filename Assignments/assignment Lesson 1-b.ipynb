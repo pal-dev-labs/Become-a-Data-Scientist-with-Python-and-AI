{
 "cells": [
  {
   "cell_type": "markdown",
   "id": "a47feae4",
   "metadata": {},
   "source": [
    "# 📘 Python Exercises on Data Types and Debugging"
   ]
  },
  {
   "cell_type": "markdown",
   "id": "f1433e6f",
   "metadata": {},
   "source": [
    "This notebook contains practical exercises on fundamental Python data types (int, float, str, boolean, list, function). The goal is to understand data types and operations between them.\n",
    "## INSTRUCTIONS\n",
    "- Try to write the code (instead of the dots (...)) by yourself based on basic instructions provided in the notebook Lesson 1.\n",
    "- Run the cell and, in case, try to fix the error comparing with code in notebook Lesson 1. This phase is IMPORTANT to fix in memory commands and syntax\n",
    "- If you still have problems, go to ChatGPT and write \"create a python code that perform ..exercise..instructions\". Cut and paste the code in a new notebook cell \n",
    "- Customize the code if necessary and run it. \n",
    "- IMPORTANT: go through each single instructions of the new code and try to execute mentally the code in order to understand the flow of the program and the meaning of the commands. There are 2 goals here. First: fix commands meaning and syntax. Second: understand solution strategy\n",
    "- COMPARE the new code with previous code in order to understand the errors you made\n",
    "\n",
    "You can also go to stackoverflow to ask question about python code."
   ]
  },
  {
   "cell_type": "markdown",
   "id": "231df78f",
   "metadata": {},
   "source": [
    "### Task 1-A: String Concatenation\n",
    "Create two strings: s1 = \"Hello\" and s2 = \"World\". Concatenate them with a space in between and print the result."
   ]
  },
  {
   "cell_type": "markdown",
   "id": "424e5f01",
   "metadata": {},
   "source": [
    "### Task 1-B: String Slicing\n",
    "Given the string s = \"PythonProgramming\", extract and print the substring \"Programming\"."
   ]
  },
  {
   "cell_type": "markdown",
   "id": "bd67ba0d",
   "metadata": {},
   "source": [
    "### Task 1-C: String Repetition\n",
    "Create a string s = \"ha\" and repeat it 3 times using the * operator. Print the result.\n",
    "\n"
   ]
  },
  {
   "cell_type": "markdown",
   "id": "774b61bd",
   "metadata": {},
   "source": [
    "### Task 1-D: String Length\n",
    "Given the string s = \"Supercalifragilisticexpialidocious\", calculate and print its length using the len() function."
   ]
  },
  {
   "cell_type": "markdown",
   "id": "f95177e3",
   "metadata": {},
   "source": [
    "### Task 1-E: String Formatting\n",
    "Create two variables: \n",
    "name = \"Alice\" and age = 25. \n",
    "Use an f-string to print the following sentence: \"My name is Alice and I am 25 years old.\"\n",
    "\n",
    "\n",
    "NB: ask chatGPT to create a f-string  "
   ]
  },
  {
   "cell_type": "markdown",
   "id": "88da3be0",
   "metadata": {},
   "source": [
    "### Task 2-A: Logical OR operation\n",
    "\n",
    "LOGICAL OR HAS THE BELOW TRUE TABLE\n",
    "\n",
    "| A     | B     | A OR B |\n",
    "|-------|-------|--------|\n",
    "| False | False | False  |\n",
    "| False | True  | True   |\n",
    "| True  | False | True   |\n",
    "| True  | True  | True   |\n",
    "\n"
   ]
  },
  {
   "cell_type": "code",
   "execution_count": null,
   "id": "cb90700d",
   "metadata": {},
   "outputs": [],
   "source": [
    "# TRY TO RUN THE CELL WITH DIFFERENT BOOLEAN VALUE OF bool1 and bool2\n",
    "bool1 = False\n",
    "bool2 = True\n",
    "# Assign 'result' the value of bool1 OR bool2\n",
    "result = ...\n",
    "print(result)"
   ]
  },
  {
   "cell_type": "markdown",
   "id": "45d8caa9",
   "metadata": {},
   "source": [
    "### Task 2-B: Logical AND operation\n",
    "\n",
    "LOGICAL OR HAS THE BELOW TRUE TABLE\n",
    "\n",
    "| A     | B     | A AND B |\n",
    "|-------|-------|--------|\n",
    "| False | False | False  |\n",
    "| False | True  | False  |\n",
    "| True  | False | False  |\n",
    "| True  | True  | True   |"
   ]
  },
  {
   "cell_type": "code",
   "execution_count": null,
   "id": "e5a09ca6",
   "metadata": {},
   "outputs": [],
   "source": [
    "bool1 = False\n",
    "bool2 = True\n",
    "# Assign 'result' the value of bool1 AND bool2\n",
    "result = ...\n",
    "print(result)"
   ]
  },
  {
   "cell_type": "markdown",
   "id": "739bc127",
   "metadata": {},
   "source": [
    "### Task 2-C: Logical NOT operation\n",
    "\n",
    "LOGICAL NOT HAS THE BELOW TRUE TABLE\n",
    "\n",
    "| A     |  NOT A |\n",
    "|-------|--------|\n",
    "| False | True   |\n",
    "| True  | False  |\n"
   ]
  },
  {
   "cell_type": "code",
   "execution_count": null,
   "id": "93a961c7",
   "metadata": {},
   "outputs": [],
   "source": [
    "bool1 = False\n",
    "# Assign 'result' the value of bool1\n",
    "result = ...\n",
    "print(result)"
   ]
  },
  {
   "cell_type": "markdown",
   "id": "bfb95c45",
   "metadata": {},
   "source": [
    "### Task 5: Find the maximum value in a list"
   ]
  },
  {
   "cell_type": "code",
   "execution_count": null,
   "id": "c0b54a6f",
   "metadata": {},
   "outputs": [],
   "source": [
    "numbers = [3, 7, 2, 9, 5]\n",
    "# Find the maximum value and assign to 'max_value'\n",
    "max_value = ...\n",
    "print(max_value)"
   ]
  },
  {
   "cell_type": "markdown",
   "id": "b42a8a8f",
   "metadata": {},
   "source": [
    "### Task 6: Define a function that multiplies two numbers"
   ]
  },
  {
   "cell_type": "code",
   "execution_count": null,
   "id": "34639e45",
   "metadata": {},
   "outputs": [],
   "source": [
    "def multiply(a, b):\n",
    "    # Return the product of a and b\n",
    "    return ...\n",
    "\n",
    "print(multiply(3, 4))"
   ]
  },
  {
   "cell_type": "markdown",
   "id": "1bcda204",
   "metadata": {},
   "source": [
    "### Task 7: Extract the first word from a string"
   ]
  },
  {
   "cell_type": "markdown",
   "id": "8888c77d",
   "metadata": {},
   "source": [
    "### Task 8: Convert float to integer"
   ]
  },
  {
   "cell_type": "markdown",
   "id": "94485bea",
   "metadata": {},
   "source": [
    "### Task 9: Append to a List\n",
    "Given the list colors = [\"red\", \"green\", \"blue\"], append the color \"yellow\" to the list and print the updated list."
   ]
  },
  {
   "cell_type": "markdown",
   "id": "ca40dd37",
   "metadata": {},
   "source": [
    "### Task 10: Check if a string contains a character"
   ]
  },
  {
   "cell_type": "code",
   "execution_count": null,
   "id": "15847824",
   "metadata": {},
   "outputs": [],
   "source": [
    "text = 'Python programming'\n",
    "# Check if 'g' is in text and assign the result to 'contains'\n",
    "contains = ...\n",
    "print(contains)"
   ]
  },
  {
   "cell_type": "markdown",
   "id": "3266e002",
   "metadata": {},
   "source": [
    "### Task 11: Get the first item from a list"
   ]
  },
  {
   "cell_type": "code",
   "execution_count": null,
   "id": "3a18b518",
   "metadata": {},
   "outputs": [],
   "source": [
    "items = ['apple', 'banana', 'cherry']\n",
    "# Extract the first item and assign to 'first_item'\n",
    "first_item = ...\n",
    "print(first_item)"
   ]
  },
  {
   "cell_type": "markdown",
   "id": "0af9c372",
   "metadata": {},
   "source": [
    "### Task 12: Merge two strings with a space"
   ]
  },
  {
   "cell_type": "code",
   "execution_count": null,
   "id": "281448e8",
   "metadata": {},
   "outputs": [],
   "source": [
    "str1 = 'Good'\n",
    "str2 = 'Morning'\n",
    "# Merge the two strings with a space in between and assign to 'greeting'\n",
    "greeting = ...\n",
    "print(greeting)"
   ]
  },
  {
   "cell_type": "markdown",
   "id": "d3ba5670",
   "metadata": {},
   "source": [
    "### Task 13: Get the length of a list"
   ]
  },
  {
   "cell_type": "code",
   "execution_count": null,
   "id": "5d70af65",
   "metadata": {},
   "outputs": [],
   "source": [
    "values = [10, 20, 30, 40]\n",
    "# Assign 'size' the length of values\n",
    "size = ...\n",
    "print(size)"
   ]
  },
  {
   "cell_type": "markdown",
   "id": "590ec46e",
   "metadata": {},
   "source": [
    "### Task 14: Define a function that returns a tuple"
   ]
  },
  {
   "cell_type": "code",
   "execution_count": null,
   "id": "be844dad",
   "metadata": {},
   "outputs": [],
   "source": [
    "def create_tuple():\n",
    "    # Return a tuple with three different values\n",
    "    return ...\n",
    "\n",
    "print(create_tuple())"
   ]
  },
  {
   "cell_type": "markdown",
   "id": "f7095b99",
   "metadata": {},
   "source": [
    "### Task 15: Convert an integer to a string"
   ]
  },
  {
   "cell_type": "code",
   "execution_count": null,
   "id": "143e3114",
   "metadata": {},
   "outputs": [],
   "source": [
    "num = 123\n",
    "# Convert num to a string and assign to 'converted'\n",
    "converted = ...\n",
    "print(converted)"
   ]
  },
  {
   "cell_type": "markdown",
   "id": "1754624d",
   "metadata": {},
   "source": [
    "### Task 16: Reverse a string"
   ]
  },
  {
   "cell_type": "code",
   "execution_count": null,
   "id": "52353823",
   "metadata": {},
   "outputs": [],
   "source": [
    "phrase = 'abcdef'\n",
    "# Reverse phrase and assign to 'reversed_phrase'\n",
    "reversed_phrase = ...\n",
    "print(reversed_phrase)"
   ]
  },
  {
   "cell_type": "markdown",
   "id": "a2d7f6c8",
   "metadata": {},
   "source": [
    "### Task 17: Extract the last three characters of a string"
   ]
  },
  {
   "cell_type": "code",
   "execution_count": null,
   "id": "9ac0bcf2",
   "metadata": {},
   "outputs": [],
   "source": [
    "word = 'Technology'\n",
    "# Extract the last three characters and assign to 'last_three'\n",
    "last_three = ...\n",
    "print(last_three)"
   ]
  },
  {
   "cell_type": "markdown",
   "id": "3c8e3bcc",
   "metadata": {},
   "source": [
    "### Task 19: Convert an integer to a float"
   ]
  },
  {
   "cell_type": "code",
   "execution_count": null,
   "id": "534e616d",
   "metadata": {},
   "outputs": [],
   "source": [
    "num = 42\n",
    "# Convert num to a float and assign to 'converted'\n",
    "converted = ...\n",
    "print(converted)"
   ]
  },
  {
   "cell_type": "markdown",
   "id": "91553aab",
   "metadata": {},
   "source": [
    "### Task 20: Define a function that returns a boolean"
   ]
  },
  {
   "cell_type": "code",
   "execution_count": null,
   "id": "fc4693b8",
   "metadata": {},
   "outputs": [],
   "source": [
    "def is_even(n):\n",
    "    # Return True if n is even, otherwise False\n",
    "    return ...\n",
    "\n",
    "print(is_even(4))"
   ]
  },
  {
   "cell_type": "markdown",
   "id": "cf883f0a",
   "metadata": {},
   "source": [
    "### Task 21: Slice a List\n",
    "Given the list letters = [\"a\", \"b\", \"c\", \"d\", \"e\"], extract and print a sublist containing the second, third, and fourth elements."
   ]
  },
  {
   "cell_type": "markdown",
   "id": "261f411e",
   "metadata": {},
   "source": [
    "## 🛠️ Debugging: Find and Fix the Errors"
   ]
  },
  {
   "cell_type": "markdown",
   "id": "d2be26f6",
   "metadata": {},
   "source": [
    "### Debug 1"
   ]
  },
  {
   "cell_type": "code",
   "execution_count": null,
   "id": "520fccdb",
   "metadata": {},
   "outputs": [],
   "source": [
    "x = 20\n",
    "y = '10'\n",
    "result = x - y  # Fix the error\n",
    "print(result)"
   ]
  },
  {
   "cell_type": "markdown",
   "id": "d398e907",
   "metadata": {},
   "source": [
    "### Debug 2"
   ]
  },
  {
   "cell_type": "code",
   "execution_count": null,
   "id": "b4596e6d",
   "metadata": {},
   "outputs": [],
   "source": [
    "def add(a, b)\n",
    "    return a + b\n",
    "print(add(3, 5))  # Fix the error"
   ]
  },
  {
   "cell_type": "markdown",
   "id": "d3e69855",
   "metadata": {},
   "source": [
    "### Debug 3"
   ]
  },
  {
   "cell_type": "code",
   "execution_count": null,
   "id": "88006ca9",
   "metadata": {},
   "outputs": [],
   "source": [
    "numbers = [1, 2, 3]\n",
    "print(numbers[3])  # Fix the error"
   ]
  },
  {
   "cell_type": "markdown",
   "id": "109f25a2",
   "metadata": {},
   "source": [
    "### Debug 4"
   ]
  },
  {
   "cell_type": "code",
   "execution_count": null,
   "id": "1d71a982",
   "metadata": {},
   "outputs": [],
   "source": [
    "text = 'Coding'\n",
    "print(text.uppercase())  # Fix the error"
   ]
  },
  {
   "cell_type": "markdown",
   "id": "9ee70c08",
   "metadata": {},
   "source": [
    "### Debug 5"
   ]
  },
  {
   "cell_type": "code",
   "execution_count": null,
   "id": "b1cb0d94",
   "metadata": {},
   "outputs": [],
   "source": [
    "def greet(name):\n",
    "print('Hello, ' + name)  # Fix the indentation error\n",
    "greet('Alice')"
   ]
  },
  {
   "cell_type": "markdown",
   "id": "132d83db",
   "metadata": {},
   "source": [
    "### Debug 6"
   ]
  },
  {
   "cell_type": "code",
   "execution_count": null,
   "id": "6cf83443",
   "metadata": {},
   "outputs": [],
   "source": [
    "x = '25'\n",
    "y = 5\n",
    "print(x + y)  # Fix the error"
   ]
  },
  {
   "cell_type": "markdown",
   "id": "cd6044e3",
   "metadata": {},
   "source": [
    "### Debug 7"
   ]
  },
  {
   "cell_type": "code",
   "execution_count": null,
   "id": "1a45deb8",
   "metadata": {},
   "outputs": [],
   "source": [
    "values = (1, 2, 3)\n",
    "values[1] = 5  # Fix the error"
   ]
  },
  {
   "cell_type": "markdown",
   "id": "a176afce",
   "metadata": {},
   "source": [
    "### Debug 8"
   ]
  },
  {
   "cell_type": "code",
   "execution_count": null,
   "id": "e131c722",
   "metadata": {},
   "outputs": [],
   "source": [
    "word = 'Python'\n",
    "print(word[10])  # Fix the error"
   ]
  },
  {
   "cell_type": "markdown",
   "id": "65671e8a",
   "metadata": {},
   "source": [
    "### Debug 9"
   ]
  },
  {
   "cell_type": "code",
   "execution_count": null,
   "id": "52b8bd94",
   "metadata": {},
   "outputs": [],
   "source": [
    "print(hello)  # Fix the error"
   ]
  },
  {
   "cell_type": "markdown",
   "id": "901f865d",
   "metadata": {},
   "source": [
    "### Debug 10"
   ]
  },
  {
   "cell_type": "code",
   "execution_count": null,
   "id": "85312cc5",
   "metadata": {},
   "outputs": [],
   "source": [
    "def multiply(a, b):\n",
    "    return a * b\n",
    "print(multiply(4))  # Fix the error"
   ]
  }
 ],
 "metadata": {
  "language_info": {
   "name": "python"
  }
 },
 "nbformat": 4,
 "nbformat_minor": 5
}
