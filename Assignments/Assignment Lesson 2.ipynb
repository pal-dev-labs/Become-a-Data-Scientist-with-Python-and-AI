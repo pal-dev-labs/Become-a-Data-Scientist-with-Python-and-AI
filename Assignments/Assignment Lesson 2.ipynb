{
 "cells": [
  {
   "cell_type": "markdown",
   "id": "6293cc50",
   "metadata": {},
   "source": [
    "## INSTRUCTIONS\n",
    "- Try to write the code by yourself based on basic instructions provided in the notebook Lesson 1.\n",
    "- Run the cell and, in case, try to fix the error comparing with code in notebook Lesson 2. This phase is IMPORTANT to fix in memory commands and syntax\n",
    "- If you still have problems, **go to ChatGPT** and write \"create a python code that perform ..exercise..instructions\". Cut and paste the code in a new notebook cell \n",
    "- Customize the code if necessary and run it. \n",
    "- IMPORTANT: go through each single instructions of the new code and try to execute mentally the code in order to understand the flow of the program and the meaning of the commands. There are 2 goals here. First: fix commands meaning and syntax. Second: understand solution strategy\n",
    "- COMPARE the new code with previous code in order to understand the errors you made\n",
    "\n",
    "You can also go to stackoverflow to ask question about python code."
   ]
  },
  {
   "cell_type": "markdown",
   "id": "a167c052",
   "metadata": {},
   "source": [
    "File automatically generated. See the documentation to update questions/answers/hints programmatically."
   ]
  },
  {
   "cell_type": "markdown",
   "id": "3c1222ff",
   "metadata": {},
   "source": [
    "#### 1. Import the numpy package under the name `np` (★☆☆)"
   ]
  },
  {
   "cell_type": "code",
   "execution_count": null,
   "id": "f52e6a0b",
   "metadata": {},
   "outputs": [],
   "source": [
    "import numpy as np"
   ]
  },
  {
   "cell_type": "markdown",
   "id": "3e4c23c6",
   "metadata": {},
   "source": [
    "#### 3. Create a null vector of size 10 (★☆☆)"
   ]
  },
  {
   "cell_type": "code",
   "execution_count": null,
   "id": "083c5c46",
   "metadata": {},
   "outputs": [],
   "source": []
  },
  {
   "cell_type": "markdown",
   "id": "e0c739c6",
   "metadata": {},
   "source": [
    "#### 6. Create a null vector of size 10 but the fifth value which is 1 (★☆☆)"
   ]
  },
  {
   "cell_type": "code",
   "execution_count": null,
   "id": "bcceacf7",
   "metadata": {},
   "outputs": [],
   "source": []
  },
  {
   "cell_type": "markdown",
   "id": "fbebedab",
   "metadata": {},
   "source": [
    "#### 7. Create a vector with values ranging from 10 to 49 (★☆☆)"
   ]
  },
  {
   "cell_type": "code",
   "execution_count": null,
   "id": "3d117d54",
   "metadata": {},
   "outputs": [],
   "source": []
  },
  {
   "cell_type": "markdown",
   "id": "ad0bff02",
   "metadata": {},
   "source": [
    "#### 8. Reverse a vector (first element becomes last) (★☆☆)"
   ]
  },
  {
   "cell_type": "code",
   "execution_count": null,
   "id": "22d23470",
   "metadata": {},
   "outputs": [],
   "source": []
  },
  {
   "cell_type": "markdown",
   "id": "9f59d7e1",
   "metadata": {},
   "source": [
    "#### 9. Create a 3x3 matrix with values ranging from 0 to 8 (★☆☆)"
   ]
  },
  {
   "cell_type": "code",
   "execution_count": null,
   "id": "7449e82d",
   "metadata": {},
   "outputs": [],
   "source": []
  },
  {
   "cell_type": "markdown",
   "id": "9c4707f5",
   "metadata": {},
   "source": [
    "#### 11. Create a 3x3 identity matrix (★☆☆)"
   ]
  },
  {
   "cell_type": "code",
   "execution_count": null,
   "id": "29dc1fd3",
   "metadata": {},
   "outputs": [],
   "source": []
  },
  {
   "cell_type": "markdown",
   "id": "3bac294a",
   "metadata": {},
   "source": [
    "#### 12. Create a 3x3x3 array with random values (★☆☆)"
   ]
  },
  {
   "cell_type": "code",
   "execution_count": null,
   "id": "eadfae67",
   "metadata": {},
   "outputs": [],
   "source": []
  },
  {
   "cell_type": "markdown",
   "id": "466c2989",
   "metadata": {},
   "source": [
    "#### 13. Create a 10x10 array with random values and find the minimum and maximum values (★☆☆)"
   ]
  },
  {
   "cell_type": "code",
   "execution_count": null,
   "id": "9a74dbfc",
   "metadata": {},
   "outputs": [],
   "source": []
  },
  {
   "cell_type": "markdown",
   "id": "53a8edb2",
   "metadata": {},
   "source": [
    "#### 14. Create a random vector of size 30 and find the mean value (★☆☆)"
   ]
  },
  {
   "cell_type": "code",
   "execution_count": null,
   "id": "6691530b",
   "metadata": {},
   "outputs": [],
   "source": []
  },
  {
   "cell_type": "markdown",
   "id": "cbaad31c",
   "metadata": {},
   "source": [
    "#### 15. Create a 2d array with 1 on the border and 0 inside (★☆☆)"
   ]
  },
  {
   "cell_type": "code",
   "execution_count": null,
   "id": "ad8308e3",
   "metadata": {},
   "outputs": [],
   "source": []
  },
  {
   "cell_type": "markdown",
   "id": "c5ecc267",
   "metadata": {},
   "source": [
    "#### 16. How to add a border (filled with 0's) around an existing array? (★☆☆)"
   ]
  },
  {
   "cell_type": "code",
   "execution_count": null,
   "id": "9d5c78c4",
   "metadata": {},
   "outputs": [],
   "source": []
  },
  {
   "cell_type": "markdown",
   "id": "502738ac",
   "metadata": {},
   "source": [
    "#### 18. Create a 5x5 matrix with values 1,2,3,4 just below the diagonal (★☆☆)"
   ]
  },
  {
   "cell_type": "code",
   "execution_count": null,
   "id": "faed6e2b",
   "metadata": {},
   "outputs": [],
   "source": []
  },
  {
   "cell_type": "markdown",
   "id": "a65da660",
   "metadata": {},
   "source": [
    "#### 19. Create a 8x8 matrix and fill it with a checkerboard pattern (★☆☆)"
   ]
  },
  {
   "cell_type": "code",
   "execution_count": null,
   "id": "ed150400",
   "metadata": {},
   "outputs": [],
   "source": []
  },
  {
   "cell_type": "markdown",
   "id": "9f7f9c49",
   "metadata": {},
   "source": [
    "#### 20. Consider a (6,7,8) shape array, what is the index (x,y,z) of the 100th element? (★☆☆)"
   ]
  },
  {
   "cell_type": "code",
   "execution_count": null,
   "id": "3782b5a9",
   "metadata": {},
   "outputs": [],
   "source": []
  },
  {
   "cell_type": "markdown",
   "id": "654805b1",
   "metadata": {},
   "source": [
    "#### 24. Multiply a 5x3 matrix by a 3x2 matrix (real matrix product) (★☆☆)"
   ]
  },
  {
   "cell_type": "code",
   "execution_count": null,
   "id": "6a42619f",
   "metadata": {},
   "outputs": [],
   "source": []
  },
  {
   "cell_type": "markdown",
   "id": "994c25df",
   "metadata": {},
   "source": [
    "#### 25. Given a 1D array, negate all elements which are between 3 and 8, in place. (★☆☆)"
   ]
  },
  {
   "cell_type": "code",
   "execution_count": null,
   "id": "e4b39c03",
   "metadata": {},
   "outputs": [],
   "source": []
  },
  {
   "cell_type": "markdown",
   "id": "5a2e3d85",
   "metadata": {},
   "source": [
    "#### 37. Create a 5x5 matrix with row values ranging from 0 to 4 (★★☆)\n",
    "### Print the shape, dimension and size of the array"
   ]
  },
  {
   "cell_type": "code",
   "execution_count": null,
   "id": "1d974e8f",
   "metadata": {},
   "outputs": [],
   "source": []
  },
  {
   "cell_type": "markdown",
   "id": "08732e7b",
   "metadata": {},
   "source": [
    "## Complete the Cramer method of the Lesson 2 (for a 3x3 matrix) calculating also y and z"
   ]
  },
  {
   "cell_type": "code",
   "execution_count": null,
   "id": "2bf54e47",
   "metadata": {},
   "outputs": [],
   "source": []
  },
  {
   "cell_type": "markdown",
   "id": "e29e35a1",
   "metadata": {},
   "source": [
    "## Run the cell below and then write the code to visualize the image \"astronaut\""
   ]
  },
  {
   "cell_type": "code",
   "execution_count": 9,
   "id": "f0bc46af",
   "metadata": {},
   "outputs": [
    {
     "data": {
      "text/plain": [
       "(512, 512, 3)"
      ]
     },
     "execution_count": 9,
     "metadata": {},
     "output_type": "execute_result"
    }
   ],
   "source": [
    "from skimage import data\n",
    "\n",
    "image = data.astronaut()\n",
    "image.shape"
   ]
  },
  {
   "cell_type": "code",
   "execution_count": 8,
   "id": "2acbef98",
   "metadata": {},
   "outputs": [
    {
     "ename": "SyntaxError",
     "evalue": "invalid syntax (615313937.py, line 2)",
     "output_type": "error",
     "traceback": [
      "\u001b[0;36m  Cell \u001b[0;32mIn[8], line 2\u001b[0;36m\u001b[0m\n\u001b[0;31m    .....\u001b[0m\n\u001b[0m        ^\u001b[0m\n\u001b[0;31mSyntaxError\u001b[0m\u001b[0;31m:\u001b[0m invalid syntax\n"
     ]
    }
   ],
   "source": [
    "import matplotlib.pyplot as plt\n",
    "....."
   ]
  },
  {
   "cell_type": "markdown",
   "id": "9d7d6e19",
   "metadata": {},
   "source": [
    "## Try to rotate the image of 90°"
   ]
  },
  {
   "cell_type": "markdown",
   "id": "8cd8016b",
   "metadata": {},
   "source": [
    "## Try to load different images from data library and visualize it"
   ]
  },
  {
   "cell_type": "code",
   "execution_count": null,
   "id": "bfe4fd59",
   "metadata": {},
   "outputs": [],
   "source": [
    "image = data.\n"
   ]
  },
  {
   "cell_type": "code",
   "execution_count": null,
   "id": "569be960",
   "metadata": {},
   "outputs": [],
   "source": []
  },
  {
   "cell_type": "markdown",
   "id": "17d4cced",
   "metadata": {},
   "source": [
    "## Try to plot the function f(x) = cos(x)*2x"
   ]
  },
  {
   "cell_type": "markdown",
   "id": "2f250abc",
   "metadata": {},
   "source": []
  },
  {
   "cell_type": "markdown",
   "id": "298a99ba",
   "metadata": {},
   "source": [
    "## Slicing Exercises\n",
    "\n",
    "## Exercise 1: Extract a Subarray\n",
    "Given the following array:\n",
    "\n",
    "```python\n",
    "arr = np.array([[1, 2, 3, 4], [5, 6, 7, 8], [9, 10, 11, 12]])\n",
    "\n",
    "Extract the subarray containing the first two rows and the last two columns.\n",
    "\n",
    "\n"
   ]
  },
  {
   "cell_type": "markdown",
   "id": "96c7deeb",
   "metadata": {},
   "source": [
    "## Exercise 2: Select Alternate Elements\n",
    "\n",
    "Given the following 1D array:\n",
    "\n",
    "arr = np.array([10, 20, 30, 40, 50, 60, 70, 80, 90, 100])\n",
    "\n",
    "\n",
    "Select every second element from the array, starting from the first element.\n",
    "\n"
   ]
  },
  {
   "cell_type": "markdown",
   "id": "cebde424",
   "metadata": {},
   "source": [
    "## Exercise 3: Extract a Diagonal  \n",
    "\n",
    "\n",
    "Given the following matrix:\n",
    "\n",
    "arr = np.array([[10, 20, 30, 40], \n",
    "                [50, 60, 70, 80], \n",
    "                [90, 100, 110, 120], \n",
    "                [130, 140, 150, 160]])\n",
    "\n",
    "Extract the diagonal elements using slicing.\n",
    "\n",
    "\n"
   ]
  },
  {
   "cell_type": "markdown",
   "id": "15c38ba9",
   "metadata": {},
   "source": [
    "## More difficults (OPTIONALS)"
   ]
  },
  {
   "cell_type": "markdown",
   "id": "c950816b",
   "metadata": {},
   "source": [
    "### **1. Portfolio Returns**\n",
    "- Create a 2D array representing the daily percentage returns of 5 stocks over 30 days.\n",
    "- Calculate:\n",
    "  - The average daily return of each stock.\n",
    "  - The cumulative return over 30 days for each stock.\n",
    "\n",
    "---\n",
    "\n",
    "### **2. Price Simulation**\n",
    "- Simulate the daily closing prices of a stock using the formula:  \n",
    "$\n",
    "  P_t = P_{t-1} \\times (1 + r_t)\n",
    "$\n",
    "  where $ P_{t-1}$ is the previous day's price, and $r_t $ is the daily return (random values between -2% and 2%).\n",
    "- Start with an initial price of $100.\n",
    "\n",
    "---\n",
    "\n",
    "### **3. Market Basket Analysis**\n",
    "- Create a 2D array representing the sales data of 10 products over 7 days (rows = days, columns = products).\n",
    "- Identify:\n",
    "  - The best-selling product each day.\n",
    "  - Total sales of each product over the week.\n",
    "\n",
    "---\n",
    "\n",
    "### **4. Economic Indicators**\n",
    "- Create arrays for GDP growth rates, inflation rates, and interest rates for 10 years.\n",
    "- Analyze the relationship by:\n",
    "  - Calculating the correlation between GDP growth and inflation.\n",
    "  - Identifying years where inflation exceeded 5%.\n",
    "\n",
    "---\n",
    "\n",
    "### **5. Risk Management**\n",
    "- Generate a 1D array of daily portfolio returns (random between -3% and 3%) for 100 days.\n",
    "- Identify:\n",
    "  - The 5 worst days (lowest returns).\n",
    "  - The average return excluding those worst days.\n",
    "\n",
    "---\n",
    "\n",
    "### **6. Demand and Supply Analysis**\n",
    "- Create a 1D array for the demand of a product over 12 months and another for its supply.\n",
    "- Analyze:\n",
    "  - The months where demand exceeds supply.\n",
    "  - The total excess demand over the year.\n",
    "\n",
    "---\n",
    "\n",
    "### **7. Tax Bracket Calculation**\n",
    "- Create a 1D array of annual incomes for 20 individuals.\n",
    "- Using broadcasting, calculate the tax owed by each individual under a progressive tax system:\n",
    "  - 10% for incomes up to 50,000 USD.  \n",
    "  - 20% for incomes between 50,001 and 100,00 USD  \n",
    "  - 30% for incomes above 100,000 USD\n",
    "\n",
    "---\n",
    "\n",
    "### **8. Cost Optimization**\n",
    "- Assume the production costs of a company follow a quadratic function $ C(q) = 5q^2 - 20q + 100$, where $ q $ is the quantity produced.\n",
    "- Create an array for $ q$ values (0 to 50 units) and calculate the total cost for each value.\n",
    "- Find the production level that minimizes cost.\n",
    "\n",
    "---\n",
    "\n",
    "### **9. Currency Conversion**\n",
    "- Create a 1D array representing the USD prices of 10 products.\n",
    "- Create a 1D array of exchange rates for 3 currencies (e.g., EUR, GBP, JPY).\n",
    "- Use broadcasting to calculate the prices in all 3 currencies.\n",
    "\n",
    "---\n",
    "\n",
    "### **10. Sharpe Ratio Calculation**\n",
    "- Create arrays for the daily returns of a portfolio (size 100) and the risk-free rate (constant, 0.02% per day).\n",
    "- Calculate the Sharpe Ratio using the formula:\n",
    "  \n",
    "  $\n",
    "  \\text{Sharpe Ratio} = \\frac{\\text{Mean Portfolio Return} - \\text{Risk-Free Rate}}{\\text{Standard Deviation of Portfolio Returns}}\n",
    "  $\n"
   ]
  },
  {
   "cell_type": "markdown",
   "id": "94905043",
   "metadata": {},
   "source": []
  }
 ],
 "metadata": {
  "kernelspec": {
   "display_name": "base",
   "language": "python",
   "name": "python3"
  },
  "language_info": {
   "codemirror_mode": {
    "name": "ipython",
    "version": 3
   },
   "file_extension": ".py",
   "mimetype": "text/x-python",
   "name": "python",
   "nbconvert_exporter": "python",
   "pygments_lexer": "ipython3",
   "version": "3.12.4"
  }
 },
 "nbformat": 4,
 "nbformat_minor": 5
}
