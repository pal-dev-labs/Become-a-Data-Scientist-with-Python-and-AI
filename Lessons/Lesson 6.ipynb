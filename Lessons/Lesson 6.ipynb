{
  "cells": [
    {
      "cell_type": "code",
      "execution_count": null,
      "id": "7f579520",
      "metadata": {
        "id": "7f579520"
      },
      "outputs": [],
      "source": []
    },
    {
      "cell_type": "markdown",
      "id": "cd4060f7",
      "metadata": {
        "id": "cd4060f7"
      },
      "source": [
        "## Nomi di animali e algebra lineare\n",
        "\n",
        "Inizieremo considerando un piccolo sottoinsieme di parole inglesi: parole di animali. Il nostro obiettivo è riuscire a scrivere un programma per trovare somiglianze tra queste parole e le creature che designano. Per fare questo, potremmo iniziare creando un foglio di calcolo di alcuni animali e delle loro caratteristiche. Per esempio:\n",
        "\n",
        "![Foglio di calcolo degli animali](http://static.decontextualize.com/snaps/animal-spreadsheet.png)\n",
        "\n",
        "Questo foglio di calcolo associa un animale a due numeri: la loro carineria e la loro taglia, entrambi in un intervallo da zero a cento. (I valori si basano semplicemente su un giudizio arbitrario. Il tuo gusto per la carineria e la valutazione delle dimensioni può differire in modo significativo dal mio. Come con tutti i dati, questi dati sono semplicemente un riflesso speculare della persona che li ha raccolti.)\n",
        "\n",
        "Questi valori ci danno tutto ciò di cui abbiamo bisogno per determinare quali animali sono simili (almeno, simili nelle proprietà che abbiamo incluso nei dati). Prova a rispondere alla seguente domanda: quale animale è più simile a un capibara? Potresti passare attraverso i valori uno per uno e fare la matematica per fare quella valutazione, ma visualizzare i dati come punti nello spazio bidimensionale rende molto intuitivo trovare la risposta:\n",
        "\n",
        "![Spazio animale](http://static.decontextualize.com/snaps/animal-space.png)\n",
        "\n",
        "La trama ci mostra che l'animale più vicino al capibara è l'orso panda (di nuovo, in termini di dimensioni soggettive e dolcezza). Un modo per calcolare quanto \"distanti\" sono due punti è trovare la loro *distanza euclidea*. (Questa è semplicemente la lunghezza della linea che collega i due punti.) Per i punti in due dimensioni, la distanza euclidea può essere calcolata con la seguente funzione Python:"
      ]
    },
    {
      "cell_type": "code",
      "execution_count": null,
      "id": "11d99234",
      "metadata": {
        "id": "11d99234",
        "tags": []
      },
      "outputs": [],
      "source": [
        "import numpy as np\n",
        "import matplotlib.pyplot as plt"
      ]
    },
    {
      "cell_type": "code",
      "execution_count": null,
      "id": "265c5a7a",
      "metadata": {
        "id": "265c5a7a"
      },
      "outputs": [],
      "source": []
    },
    {
      "cell_type": "code",
      "execution_count": null,
      "id": "858a8982",
      "metadata": {
        "id": "858a8982",
        "tags": []
      },
      "outputs": [],
      "source": [
        "vect_capybara = np.array([70,30])\n",
        "vect_panda_bear = np.array([75,40])\n",
        "vect_elephant = np.array([65,90])"
      ]
    },
    {
      "cell_type": "code",
      "execution_count": null,
      "id": "29a5fab3",
      "metadata": {
        "colab": {
          "base_uri": "https://localhost:8080/",
          "height": 435
        },
        "id": "29a5fab3",
        "outputId": "7cbb6c88-76d3-4b1f-f0a7-15b44b642115",
        "tags": []
      },
      "outputs": [],
      "source": [
        "import matplotlib.pyplot as plt\n",
        "\n",
        "plt.arrow(0,0, vect_capybara[0], vect_capybara[1], color='blue',  linewidth=2, \\\n",
        "          head_width=3, head_length=4, length_includes_head=True, label=\"Capybara\")\n",
        "plt.arrow(0,0, vect_panda_bear[0], vect_panda_bear[1], color='red', linewidth=2, \\\n",
        "          head_width=3, head_length=4, length_includes_head=True, label=\"Panda Bear\")\n",
        "plt.arrow(0,0, vect_elephant[0], vect_elephant[1], color='orange', linewidth=2, \\\n",
        "          head_width=3, head_length=4, length_includes_head=True, label=\"Eephant\")\n",
        "\n",
        "\n",
        "plt.scatter(vect_capybara[0], vect_capybara[1], s=50, c='blue', marker='o')\n",
        "plt.scatter(vect_panda_bear[0], vect_panda_bear[1], s=50, c='red', marker='o')\n",
        "plt.scatter(vect_elephant[0], vect_elephant[1], s=50, c='orange', marker='o')\n",
        "\n",
        "plt.xlim(0, 100)\n",
        "plt.ylim(0, 100)\n",
        "plt.legend()\n",
        "plt.show()"
      ]
    },
    {
      "cell_type": "markdown",
      "id": "8505b10d",
      "metadata": {
        "id": "8505b10d"
      },
      "source": [
        "Quanto vale la distanza tra \"capybara\" (70, 30) e \"elefante\" (74, 40)?"
      ]
    },
    {
      "cell_type": "code",
      "execution_count": null,
      "id": "83b5a035",
      "metadata": {
        "colab": {
          "base_uri": "https://localhost:8080/",
          "height": 435
        },
        "id": "83b5a035",
        "outputId": "433802af-4252-4ac5-82c1-d6cfd855fa9d",
        "tags": []
      },
      "outputs": [],
      "source": [
        "diff=vect_elephant-vect_capybara\n",
        "\n",
        "plt.arrow(vect_capybara[0], vect_capybara[1], diff[0], diff[1], color='green', linewidth=2, \\\n",
        "          head_width=3, head_length=4, length_includes_head=True, label=\"Difference\")\n",
        "\n",
        "plt.arrow(0,0, vect_capybara[0], vect_capybara[1], color='blue',  linewidth=2, \\\n",
        "          head_width=3, head_length=4, length_includes_head=True, label=\"Capybara\")\n",
        "plt.arrow(0,0, vect_panda_bear[0], vect_panda_bear[1], color='red', linewidth=2, \\\n",
        "          head_width=3, head_length=4, length_includes_head=True, label=\"Panda Bear\")\n",
        "plt.arrow(0,0, vect_elephant[0], vect_elephant[1], color='orange', linewidth=2, \\\n",
        "          head_width=3, head_length=4, length_includes_head=True, label=\"Eephant\")\n",
        "\n",
        "\n",
        "plt.scatter(vect_capybara[0], vect_capybara[1], s=50, c='blue', marker='o')\n",
        "plt.scatter(vect_panda_bear[0], vect_panda_bear[1], s=50, c='red', marker='o')\n",
        "plt.scatter(vect_elephant[0], vect_elephant[1], s=50, c='orange', marker='o')\n",
        "\n",
        "plt.xlim(0, 100)\n",
        "plt.ylim(0, 100)\n",
        "plt.legend()\n",
        "plt.show()"
      ]
    },
    {
      "cell_type": "markdown",
      "id": "7dd79c75",
      "metadata": {
        "id": "7dd79c75"
      },
      "source": [
        "Come calcoliamo la distanza tra l'Elefante e il Capybara?\n",
        "Considero la **differenza** tra il **vettore Elefante** e il **vettore Capybara**\n",
        "Poi valuto il **Modulo** di questo vettore:\n",
        "\n",
        "| vect_elephant - vect_capybara |\n",
        "\n",
        "Come faccio a calcolarlo con Numpy ?\n",
        "Noto che il modulo di un vettore $\\vec v = (v_x,v_y,v_z)$ è:\n",
        "$ |{\\vec v}| = \\sqrt {v_x^2 + v_y^2 + v_z^2} $.\n",
        "\n",
        "Ricordando che il PRODOTTO SCALARE tra due vettori è\n",
        "\n",
        "$(\\vec a, \\vec b) = a_xb_x +a_yb_y + a_zb_z $\n",
        "\n",
        "risulta che $(\\vec v,\\vec v)= v_x^2 + v_y^2 + v_z^2$\n",
        "deduco quindi che\n",
        "\n",
        "$ |{\\vec v}| = \\sqrt (\\vec v,\\vec v) $.\n",
        "\n",
        "Cioè il modulo di un vettore è la radice quadrata del prodotto scalare con se stesso\n"
      ]
    },
    {
      "cell_type": "code",
      "execution_count": null,
      "id": "9af26050",
      "metadata": {
        "colab": {
          "base_uri": "https://localhost:8080/"
        },
        "id": "9af26050",
        "outputId": "a1c06ece-d6fd-483b-8d2f-e88f87cdef8b"
      },
      "outputs": [],
      "source": [
        "distance1 = np.sqrt(np.dot(diff,diff))\n",
        "distance1"
      ]
    },
    {
      "cell_type": "markdown",
      "id": "af73010b",
      "metadata": {
        "id": "af73010b"
      },
      "source": [
        "Modellare gli animali in questo modo ha alcune altre proprietà interessanti. Ad esempio, puoi scegliere un punto arbitrario nello \"spazio animale\" e quindi trovare l'animale più vicino a quel punto. Se immagini un animale di taglia 25 e carineria 30, puoi facilmente guardare lo spazio per trovare l'animale che si adatta meglio a quella descrizione: il pollo.\n",
        "\n",
        "Ragionando visivamente, puoi anche rispondere a domande del tipo: cosa c'è a metà strada tra un pollo e un elefante? Traccia semplicemente una linea da \"elefante\" a \"pollo\", segna il punto medio e trova l'animale più vicino. (Secondo la nostra tabella, a metà strada tra un elefante e un pollo c'è un cavallo.)\n",
        "\n",
        "Puoi anche chiedere: qual è la *differenza* tra un criceto e una tarantola? Secondo la nostra trama, sono circa settantacinque unità di carino (e poche unità di dimensione).\n",
        "\n",
        "La relazione di \"differenza\" è interessante, perché ci permette di ragionare su relazioni *analogiche*. Nella tabella qui sotto, ho disegnato una freccia da \"tarantola\" a \"criceto\" (in blu):\n",
        "\n",
        "![Analogia animale](http://static.decontextualize.com/snaps/animal-space-analogy.png)\n",
        "\n",
        "Puoi interpretare questa freccia come la *relazione* tra una tarantola e un criceto, in termini di dimensioni e carineria (ad esempio, criceti e tarantole hanno all'incirca le stesse dimensioni, ma i criceti sono molto più carini). Nello stesso diagramma, ho anche trasposto la stessa freccia (questa volta in rosso) in modo che il suo punto di origine sia \"pollo\". La freccia termina più vicino a \"gattino\". Quello che abbiamo scoperto è che l'animale che ha all'incirca le stesse dimensioni di un pollo ma molto più carino è... un gattino. Per dirla in termini di analogia:\n",
        "\n",
        "     Le tarantole stanno ai criceti come le galline stanno ai gattini.\n",
        "    \n",
        "Una sequenza di numeri usata per identificare un punto è chiamata *vettore*, e il tipo di matematica che abbiamo fatto finora è chiamato *algebra lineare* (l'algebra lineare è sorprendentemente utile in molti domini: è lo stesso tipo di matematica che potresti fare, ad esempio, per simulare la velocità e l'accelerazione di uno sprite in un videogioco.)\n",
        "\n",
        "Un insieme di vettori che fanno tutti parte dello stesso insieme di dati è spesso chiamato *spazio vettoriale*. Lo spazio vettoriale degli animali in questa sezione ha due *dimensioni*, con cui intendo che ogni vettore nello spazio ha due numeri ad esso associati (cioè due colonne nel foglio di calcolo). Il fatto che questo spazio abbia due dimensioni rende facile *visualizzare* lo spazio disegnando una trama 2D. Ma la maggior parte degli spazi vettoriali con cui lavorerai avrà più di due dimensioni, a volte molte centinaia. In quei casi, è più difficile visualizzare lo \"spazio\", ma la matematica funziona più o meno allo stesso modo."
      ]
    },
    {
      "cell_type": "code",
      "execution_count": null,
      "id": "b9b67ecd",
      "metadata": {
        "id": "b9b67ecd"
      },
      "outputs": [],
      "source": []
    },
    {
      "cell_type": "code",
      "execution_count": null,
      "id": "ac5602ae",
      "metadata": {
        "id": "ac5602ae"
      },
      "outputs": [],
      "source": []
    },
    {
      "cell_type": "markdown",
      "id": "5d58ebc2",
      "metadata": {
        "id": "5d58ebc2"
      },
      "source": [
        "## Linguaggio con vettori: colori\n",
        "\n",
        "Fin qui tutto bene. Abbiamo un sistema in atto, sebbene altamente soggettivo, per parlare di animali e delle parole usate per nominarli. Voglio parlare di un altro spazio vettoriale che ha a che fare con il linguaggio: lo spazio vettoriale dei colori.\n",
        "\n",
        "I colori sono spesso rappresentati nei computer come vettori con tre dimensioni: rosso, verde e blu. Proprio come con gli animali nella sezione precedente, possiamo usare questi vettori per rispondere a domande come: quali colori sono simili? Qual è il nome di colore più probabile per un insieme di valori scelti arbitrariamente per rosso, verde e blu? Dati i nomi di due colori, qual è il nome della \"media\" di quei colori?\n",
        "\n",
        "Lavoreremo con questi [dati sui colori](https://github.com/dariusk/corpora/blob/master/data/colors/xkcd.json)\n",
        "dal [sondaggio sui colori xkcd](https://blog.xkcd.com/2010/05/03/color-survey-results/).\n",
        "\n",
        "I dati mettono in relazione un nome di colore con il valore RGB associato a quel colore.\n",
        "\n",
        "[Ecco una pagina che mostra l'aspetto dei colori](https://xkcd.com/color/rgb/). Scarica i dati sui colori e inseriscili nella stessa directory di questo taccuino."
      ]
    },
    {
      "cell_type": "code",
      "execution_count": null,
      "id": "b900beb9",
      "metadata": {
        "id": "b900beb9"
      },
      "outputs": [],
      "source": [
        "import json\n",
        "import requests\n",
        "import pandas as pd"
      ]
    },
    {
      "cell_type": "code",
      "execution_count": null,
      "id": "5aa90ac7",
      "metadata": {
        "colab": {
          "base_uri": "https://localhost:8080/"
        },
        "id": "5aa90ac7",
        "outputId": "1272d5c0-c7f8-453c-f974-fcccf242f4aa"
      },
      "outputs": [],
      "source": [
        "url = \"https://raw.githubusercontent.com/dariusk/corpora/master/data/colors/xkcd.json\"\n",
        "response = requests.get(url)\n",
        "\n",
        "if response.status_code == 200:\n",
        "    color_data = json.loads(response.content)\n",
        "    print(color_data)\n",
        "else:\n",
        "    print(\"Errore durante la richiesta del file JSON\")"
      ]
    },
    {
      "cell_type": "code",
      "execution_count": null,
      "id": "40F9SX_iYlv-",
      "metadata": {
        "colab": {
          "base_uri": "https://localhost:8080/"
        },
        "id": "40F9SX_iYlv-",
        "outputId": "a6786d65-23a3-469b-d336-a8c8665a728d"
      },
      "outputs": [],
      "source": [
        "color_data"
      ]
    },
    {
      "cell_type": "code",
      "execution_count": null,
      "id": "2586e26d",
      "metadata": {
        "id": "2586e26d"
      },
      "outputs": [],
      "source": [
        "# creo il dataframe con i colori\n",
        "dataframe_color=pd.DataFrame(color_data['colors'])"
      ]
    },
    {
      "cell_type": "code",
      "execution_count": null,
      "id": "831e1e0b",
      "metadata": {
        "id": "831e1e0b"
      },
      "outputs": [],
      "source": []
    },
    {
      "cell_type": "code",
      "execution_count": null,
      "id": "107c26a4",
      "metadata": {
        "colab": {
          "base_uri": "https://localhost:8080/",
          "height": 424
        },
        "id": "107c26a4",
        "outputId": "b5a4f816-d805-4fca-bd99-ff257b5d1a80"
      },
      "outputs": [],
      "source": [
        "dataframe_color"
      ]
    },
    {
      "cell_type": "markdown",
      "id": "37a1b00b",
      "metadata": {
        "id": "37a1b00b"
      },
      "source": [
        "The following function converts colors from hex format (`#1a2b3c`) to a tuple of integers:"
      ]
    },
    {
      "cell_type": "code",
      "execution_count": null,
      "id": "aa790043",
      "metadata": {
        "id": "aa790043"
      },
      "outputs": [],
      "source": [
        "def hex_to_int(s):\n",
        "    s = s.lstrip(\"#\")\n",
        "    return int(s[:2], 16), int(s[2:4], 16), int(s[4:6], 16)"
      ]
    },
    {
      "cell_type": "code",
      "execution_count": null,
      "id": "shhtM6GNZZhA",
      "metadata": {
        "id": "shhtM6GNZZhA"
      },
      "outputs": [],
      "source": []
    },
    {
      "cell_type": "markdown",
      "id": "ec3998d9",
      "metadata": {
        "id": "ec3998d9"
      },
      "source": [
        "And the following cell creates a dictionary and populates it with mappings from color names to RGB vectors for each color in the data:"
      ]
    },
    {
      "cell_type": "code",
      "execution_count": null,
      "id": "706a11e4",
      "metadata": {
        "id": "706a11e4"
      },
      "outputs": [],
      "source": [
        "colors = dict()\n",
        "red=[];green=[];blue=[]\n",
        "for item in color_data['colors']:\n",
        "    a,b,c = hex_to_int(item[\"hex\"])\n",
        "    colors[item[\"color\"]] = np.array([a,b,c])\n",
        "    red.append(a)\n",
        "    green.append(b)\n",
        "    blue.append(c)\n",
        "dataframe_color['R']=red\n",
        "dataframe_color['G']=green\n",
        "dataframe_color['B']=blue"
      ]
    },
    {
      "cell_type": "code",
      "execution_count": null,
      "id": "960dd0f9",
      "metadata": {
        "colab": {
          "base_uri": "https://localhost:8080/"
        },
        "id": "960dd0f9",
        "outputId": "21ed81b6-7a65-4ee3-e235-569af61568bc"
      },
      "outputs": [],
      "source": [
        "colors"
      ]
    },
    {
      "cell_type": "code",
      "execution_count": null,
      "id": "a7cbe771",
      "metadata": {
        "id": "a7cbe771"
      },
      "outputs": [],
      "source": []
    },
    {
      "cell_type": "code",
      "execution_count": null,
      "id": "06446438",
      "metadata": {
        "id": "06446438"
      },
      "outputs": [],
      "source": []
    },
    {
      "cell_type": "code",
      "execution_count": null,
      "id": "e4a5065a",
      "metadata": {
        "colab": {
          "base_uri": "https://localhost:8080/",
          "height": 424
        },
        "id": "e4a5065a",
        "outputId": "e7be9fa3-8030-4881-e818-45f5e12dfc34"
      },
      "outputs": [],
      "source": [
        "dataframe_color"
      ]
    },
    {
      "cell_type": "markdown",
      "id": "87a2bab0",
      "metadata": {
        "id": "87a2bab0"
      },
      "source": [
        "Testing it out:"
      ]
    },
    {
      "cell_type": "markdown",
      "id": "fadb017e",
      "metadata": {
        "id": "fadb017e"
      },
      "source": [
        "Proviamo a visualizzare il nostro spazio vettoriale dei colori.\n",
        "Ogni colore è un vettore di dim 3"
      ]
    },
    {
      "cell_type": "code",
      "execution_count": null,
      "id": "HKjvFemVaVe-",
      "metadata": {
        "colab": {
          "base_uri": "https://localhost:8080/",
          "height": 653
        },
        "id": "HKjvFemVaVe-",
        "outputId": "a939af19-1274-4ca2-e98e-c6d57f3ee97e"
      },
      "outputs": [],
      "source": [
        "from mpl_toolkits.mplot3d import Axes3D\n",
        "%matplotlib inline\n",
        "\n",
        "color_matrix=dataframe_color.iloc[:,2:5].values\n",
        "\n",
        "col = dataframe_color['hex'].values\n",
        "# Crea i dati per il grafico di dispersione 3D\n",
        "x2 = color_matrix[:,0]\n",
        "y2 = color_matrix[:,1]\n",
        "z2 = color_matrix[:,2]\n",
        "# Crea il grafico di dispersione 3D\n",
        "fig = plt.figure(figsize=(12, 8))\n",
        "ax = fig.add_subplot(111, projection='3d')\n",
        "ax.scatter(x2, y2, z2, c=col, alpha=0.6)\n",
        "\n",
        "# Imposta le etichette degli assi\n",
        "ax.set_xlabel('X')\n",
        "ax.set_ylabel('Y')\n",
        "ax.set_zlabel('Z')\n",
        "\n",
        "# Mostra il grafico\n",
        "plt.show()"
      ]
    },
    {
      "cell_type": "code",
      "execution_count": null,
      "id": "7f26a47d",
      "metadata": {
        "id": "7f26a47d"
      },
      "outputs": [],
      "source": []
    },
    {
      "cell_type": "markdown",
      "id": "85e84822",
      "metadata": {
        "id": "85e84822"
      },
      "source": [
        "Proviamo ora ad utilizzare un po' di algebra vettoriale sui colori\n",
        "\n",
        "Dimostriamo che la distanza da \"rosso\" a \"verde\" è maggiore della distanza da \"rosso\" a \"rosa\":"
      ]
    },
    {
      "cell_type": "code",
      "execution_count": null,
      "id": "06d132b2",
      "metadata": {
        "colab": {
          "base_uri": "https://localhost:8080/"
        },
        "id": "06d132b2",
        "outputId": "66acbf70-1cd6-479e-c419-fc6b1c1d8757"
      },
      "outputs": [],
      "source": [
        "np.sqrt(np.dot(colors['red']-colors['green'],colors['red']-colors['green']))"
      ]
    },
    {
      "cell_type": "code",
      "execution_count": null,
      "id": "2zOKetithoWE",
      "metadata": {
        "colab": {
          "base_uri": "https://localhost:8080/"
        },
        "id": "2zOKetithoWE",
        "outputId": "952d05e6-59fa-40db-d907-e3e60f723719"
      },
      "outputs": [],
      "source": [
        "np.sqrt(np.dot(colors['red']-colors['pink'],colors['red']-colors['pink']))"
      ]
    },
    {
      "cell_type": "markdown",
      "id": "50e153a2",
      "metadata": {
        "id": "50e153a2"
      },
      "source": [
        "Utilizzo una funzione più comoda"
      ]
    },
    {
      "cell_type": "code",
      "execution_count": null,
      "id": "af1f69c5",
      "metadata": {
        "id": "af1f69c5",
        "outputId": "ef594908-85d4-44a7-a40b-1b8804b92440"
      },
      "outputs": [],
      "source": [
        "np.linalg.norm(colors['red']- colors['green'])"
      ]
    },
    {
      "cell_type": "code",
      "execution_count": null,
      "id": "049ca05e",
      "metadata": {
        "id": "049ca05e",
        "outputId": "559c71cb-68db-4696-9f0c-1392be52b997"
      },
      "outputs": [],
      "source": [
        "np.linalg.norm(colors['red']- colors['pink'])"
      ]
    },
    {
      "cell_type": "code",
      "execution_count": null,
      "id": "f1e2d85e",
      "metadata": {
        "id": "f1e2d85e",
        "outputId": "b219c7ca-f38f-4607-90f7-a226ae20b74a"
      },
      "outputs": [],
      "source": [
        "np.linalg.norm(colors['red']- colors['green']) > np.linalg.norm(colors['red']- colors['pink'])"
      ]
    },
    {
      "cell_type": "markdown",
      "id": "5b3b5fb7",
      "metadata": {
        "id": "5b3b5fb7"
      },
      "source": [
        "### Trovare l'oggetto più vicino\n",
        "\n",
        "Proprio come volevamo trovare l'animale che più si avvicinava a un punto arbitrario nello spazio carineria/dimensione, vorremmo trovare il nome del colore più vicino a un punto arbitrario nello spazio RGB. Il modo più semplice per trovare l'elemento più vicino a un vettore arbitrario è semplicemente trovare la distanza tra il vettore di destinazione e ogni elemento nello spazio, a turno, quindi ordinare l'elenco dal più vicino al più lontano. La funzione `closest()` qui sotto fa proprio questo. Per impostazione predefinita, restituisce un elenco dei dieci elementi più vicini al vettore specificato.\n",
        "\n",
        "> Nota: il calcolo dei \"vicini più vicini\" in questo modo va bene per gli esempi in questo quaderno, ma ingestibile lento per spazi vettoriali di qualsiasi dimensione apprezzabile. Man mano che il tuo spazio vettoriale cresce, vorrai passare a una soluzione più veloce, come [kdtree](https://docs.scipy.org/doc/scipy-0.14.0/reference/generated/scipy.spatial.KDTree) di SciPy .html) o [Annoy](https://pypi.python.org/pypi/annoy)."
      ]
    },
    {
      "cell_type": "code",
      "execution_count": null,
      "id": "896f7591",
      "metadata": {
        "colab": {
          "base_uri": "https://localhost:8080/"
        },
        "id": "896f7591",
        "outputId": "5a387eea-4776-4c4a-f24e-1db041fc6375"
      },
      "outputs": [],
      "source": [
        "points = dataframe_color.iloc[:,2:5].values\n",
        "points"
      ]
    },
    {
      "cell_type": "code",
      "execution_count": null,
      "id": "820b9cee",
      "metadata": {
        "id": "820b9cee"
      },
      "outputs": [],
      "source": [
        "# funzione che ci restituisce gli n vettori più vicini ad un vettore dato\n",
        "def closest_indices(ref_vector, vectors,n):\n",
        "    distances = np.sqrt(np.sum((vectors - ref_vector)**2, axis=1))\n",
        "    # ordiniamo gli indici dei punti in base alla distanza dal vettore di riferimento e prendiamo i primi 10\n",
        "    closest_indices = np.argsort(distances)[:n]\n",
        "    return closest_indices"
      ]
    },
    {
      "cell_type": "code",
      "execution_count": null,
      "id": "3ef1bdf3",
      "metadata": {
        "colab": {
          "base_uri": "https://localhost:8080/"
        },
        "id": "3ef1bdf3",
        "outputId": "e4f93fae-04ee-4067-d489-06a333b372b7"
      },
      "outputs": [],
      "source": [
        "colors['red']"
      ]
    },
    {
      "cell_type": "code",
      "execution_count": null,
      "id": "10bfc57b",
      "metadata": {
        "colab": {
          "base_uri": "https://localhost:8080/"
        },
        "id": "10bfc57b",
        "outputId": "05b7ded9-f1a4-4693-891f-6e93db73c67e"
      },
      "outputs": [],
      "source": [
        "color_matrix=dataframe_color.iloc[:,2:5].values\n",
        "ref_vector = colors['red']\n",
        "k_nearest= 10\n",
        "\n",
        "cind = closest_indices(ref_vector,color_matrix,k_nearest)\n",
        "\n",
        "# stampiamo i punti più vicini\n",
        "print(cind)"
      ]
    },
    {
      "cell_type": "code",
      "execution_count": null,
      "id": "7e1c1d99",
      "metadata": {
        "colab": {
          "base_uri": "https://localhost:8080/",
          "height": 363
        },
        "id": "7e1c1d99",
        "outputId": "f8300968-b9c9-4855-ddb3-7573661ccd5c"
      },
      "outputs": [],
      "source": [
        "dataframe_color.iloc[cind,:]"
      ]
    },
    {
      "cell_type": "markdown",
      "id": "1f48b67a",
      "metadata": {
        "id": "1f48b67a"
      },
      "source": [
        "A questo punto possiamo chiederci quali sono i colori più vicini a (10,50,150)"
      ]
    },
    {
      "cell_type": "code",
      "execution_count": null,
      "id": "1eac0318",
      "metadata": {
        "colab": {
          "base_uri": "https://localhost:8080/",
          "height": 448
        },
        "id": "1eac0318",
        "outputId": "772105f8-de3a-4342-c47b-36092eda29c1"
      },
      "outputs": [],
      "source": [
        "from matplotlib.colors import to_hex\n",
        "%matplotlib inline\n",
        "\n",
        "ref_vector=np.array([10,50,150]) # colore scelto da noi\n",
        "ref_color = 1/255.0*ref_vector # specifica RGB del colore scalato di 255.0\n",
        "plt.scatter(1, 1, s=550,color=to_hex(ref_color))\n"
      ]
    },
    {
      "cell_type": "code",
      "execution_count": null,
      "id": "3541ae1e",
      "metadata": {
        "colab": {
          "base_uri": "https://localhost:8080/",
          "height": 677
        },
        "id": "3541ae1e",
        "outputId": "407ff30e-5705-4195-a101-9dddf171adeb"
      },
      "outputs": [],
      "source": [
        "k_nearest = 20\n",
        "cind = closest_indices(ref_vector,color_matrix,k_nearest)\n",
        "extraction = dataframe_color.iloc[cind,:]\n",
        "extraction"
      ]
    },
    {
      "cell_type": "code",
      "execution_count": null,
      "id": "a13085f2",
      "metadata": {
        "colab": {
          "base_uri": "https://localhost:8080/",
          "height": 824
        },
        "id": "a13085f2",
        "outputId": "fada4216-0cfe-4428-b1f5-f5ae2aefab59"
      },
      "outputs": [],
      "source": [
        "x=0;y=0\n",
        "%matplotlib inline\n",
        "\n",
        "plt.scatter(x, y+1, s=800, color=to_hex(ref_color))\n",
        "\n",
        "for i in range(0,extraction.shape[0]):\n",
        "    colorname = extraction.iloc[i,0]\n",
        "    rgb_vect=extraction.iloc[i,1]  # estrae i codici rgb\n",
        "    print(colorname)\n",
        "    plt.scatter(x, y, s=800,c=rgb_vect, label=colorname)\n",
        "    x=x+20\n",
        "plt.legend()\n",
        "plt.show()"
      ]
    },
    {
      "cell_type": "code",
      "execution_count": null,
      "id": "5d6e5596",
      "metadata": {
        "id": "5d6e5596"
      },
      "outputs": [],
      "source": []
    },
    {
      "cell_type": "code",
      "execution_count": null,
      "id": "56f478df",
      "metadata": {
        "colab": {
          "base_uri": "https://localhost:8080/",
          "height": 653
        },
        "id": "56f478df",
        "outputId": "28aa70dd-79d2-493b-fd3b-c706953bb883"
      },
      "outputs": [],
      "source": [
        "from mpl_toolkits.mplot3d import Axes3D\n",
        "\n",
        "%matplotlib inline\n",
        "col = dataframe_color['hex'].values\n",
        "\n",
        "# Crea i dati per il grafico di dispersione 3D\n",
        "x1 = extraction.iloc[:,2].values\n",
        "y1 = extraction.iloc[:,3].values\n",
        "z1 = extraction.iloc[:,4].values\n",
        "\n",
        "x2 = color_matrix[:,0]\n",
        "y2 = color_matrix[:,1]\n",
        "z2 = color_matrix[:,2]\n",
        "\n",
        "# Crea il grafico di dispersione 3D\n",
        "fig = plt.figure(figsize=(12,8))\n",
        "ax = fig.add_subplot(111, projection='3d')\n",
        "ax.scatter(x2, y2, z2, c=col, alpha=0.1)\n",
        "ax.scatter(x1, y1, z1, color='blue')\n",
        "ax.scatter(ref_vector[0], ref_vector[1], ref_vector[2], s=100, color=to_hex(ref_color))\n",
        "\n",
        "\n",
        "\n",
        "# Imposta le etichette degli assi\n",
        "ax.set_xlabel('X')\n",
        "ax.set_ylabel('Y')\n",
        "ax.set_zlabel('Z')\n",
        "\n",
        "# Mostra il grafico\n",
        "plt.show()\n"
      ]
    },
    {
      "cell_type": "markdown",
      "id": "60ad9885",
      "metadata": {
        "id": "60ad9885"
      },
      "source": [
        "# ORA PROVA TU\n",
        "- Plotta i 15 colori più vicini all'arancione\n",
        "- Scegli un colore rgb (r,g,b) e trova i 15 colori più vicini"
      ]
    },
    {
      "cell_type": "code",
      "execution_count": null,
      "id": "9f2c7918",
      "metadata": {
        "id": "9f2c7918"
      },
      "outputs": [],
      "source": []
    },
    {
      "cell_type": "markdown",
      "id": "848fc316",
      "metadata": {
        "id": "848fc316"
      },
      "source": [
        "### Magia dei colori\n",
        "\n",
        "La parte magica della rappresentazione con vettori è che le operazioni vettoriali che abbiamo definito in precedenza sembrano operare sul linguaggio nello stesso modo in cui operano sui numeri.\n",
        "\n",
        "Ad esempio, se troviamo la risultante dalla sottrazione di \"rosso\" da \"viola\", otteniamo una serie di colori \"blu\":"
      ]
    },
    {
      "cell_type": "code",
      "execution_count": null,
      "id": "ea77000d",
      "metadata": {
        "id": "ea77000d"
      },
      "outputs": [],
      "source": [
        "diff1 = colors['purple'] - colors['red']"
      ]
    },
    {
      "cell_type": "code",
      "execution_count": null,
      "id": "66436a47",
      "metadata": {
        "colab": {
          "base_uri": "https://localhost:8080/",
          "height": 363
        },
        "id": "66436a47",
        "outputId": "18fa5466-cf59-4db6-c23c-823b8e408e54"
      },
      "outputs": [],
      "source": [
        "k_nearest=10\n",
        "cind2 = closest_indices(diff1,color_matrix,k_nearest)\n",
        "dataframe_color.iloc[cind2,:]"
      ]
    },
    {
      "cell_type": "markdown",
      "id": "98022a4e",
      "metadata": {
        "id": "98022a4e"
      },
      "source": [
        "Ciò corrisponde alla nostra intuizione sui colori RGB, ovvero che il viola è una combinazione di rosso e blu. Togli il rosso e il blu è tutto ciò che ti rimane.\n",
        "\n",
        "Puoi fare qualcosa di simile con l'addizione. Cos'è il blu più il verde?"
      ]
    },
    {
      "cell_type": "code",
      "execution_count": null,
      "id": "6e471b2c",
      "metadata": {
        "colab": {
          "base_uri": "https://localhost:8080/",
          "height": 363
        },
        "id": "6e471b2c",
        "outputId": "87319f38-b580-455d-c9b9-ac39acd5753a"
      },
      "outputs": [],
      "source": [
        "k_nearest=10\n",
        "cind2 = closest_indices(colors['blue']+colors['green'],color_matrix,k_nearest)\n",
        "dataframe_color.iloc[cind2,:]"
      ]
    },
    {
      "cell_type": "markdown",
      "id": "c2ad03f8",
      "metadata": {
        "id": "c2ad03f8"
      },
      "source": [
        "Esatto, è qualcosa come il turchese o il ciano!\n",
        "\n",
        "E se calcoliamo la MEDIA del bianco e nero? Com'era prevedibile, otteniamo il grigio:"
      ]
    },
    {
      "cell_type": "code",
      "execution_count": null,
      "id": "0fc96298",
      "metadata": {
        "colab": {
          "base_uri": "https://localhost:8080/"
        },
        "id": "0fc96298",
        "outputId": "0d8a5d77-b35c-4ac8-88e5-af185250e48f"
      },
      "outputs": [],
      "source": [
        "average = 1/2*(colors['black']+colors['white'])\n",
        "average"
      ]
    },
    {
      "cell_type": "code",
      "execution_count": null,
      "id": "0494cb1d",
      "metadata": {
        "colab": {
          "base_uri": "https://localhost:8080/"
        },
        "id": "0494cb1d",
        "outputId": "7cac836c-b042-44e1-87f3-f990c99a8774"
      },
      "outputs": [],
      "source": [
        "average"
      ]
    },
    {
      "cell_type": "code",
      "execution_count": null,
      "id": "cf419700",
      "metadata": {
        "id": "cf419700"
      },
      "outputs": [],
      "source": []
    },
    {
      "cell_type": "code",
      "execution_count": null,
      "id": "f356ffc5",
      "metadata": {
        "colab": {
          "base_uri": "https://localhost:8080/",
          "height": 363
        },
        "id": "f356ffc5",
        "outputId": "51c4a06f-1847-47cb-aa5c-f3d6ae8a7e7e"
      },
      "outputs": [],
      "source": [
        "k_nearest=10\n",
        "cind2 = closest_indices(average,color_matrix,k_nearest)\n",
        "dataframe_color.iloc[cind2,:]"
      ]
    },
    {
      "cell_type": "markdown",
      "id": "6748fb3c",
      "metadata": {
        "id": "6748fb3c"
      },
      "source": [
        "Proprio come con l'esempio tarantola/criceto della sezione precedente, possiamo usare i vettori di colore per ragionare sulle relazioni tra i colori.\n",
        "\n",
        "Nella cella in basso, trovare la differenza tra \"rosa\" e \"rosso\" e poi aggiungerla a \"blu\" sembra darci un elenco di colori che stanno al blu come il rosa sta al rosso (cioè una tonalità leggermente più chiara, meno satura ):"
      ]
    },
    {
      "cell_type": "code",
      "execution_count": null,
      "id": "7f6722d0",
      "metadata": {
        "colab": {
          "base_uri": "https://localhost:8080/"
        },
        "id": "7f6722d0",
        "outputId": "c388519b-99a4-4242-9058-3c83c45ccd49"
      },
      "outputs": [],
      "source": [
        "dist3 = np.linalg.norm(colors['red']-colors['pink'])\n",
        "dist3"
      ]
    },
    {
      "cell_type": "code",
      "execution_count": null,
      "id": "0879dc1e",
      "metadata": {
        "colab": {
          "base_uri": "https://localhost:8080/",
          "height": 457
        },
        "id": "0879dc1e",
        "outputId": "f8e8639a-11a5-415d-de1f-20646f57c836"
      },
      "outputs": [],
      "source": [
        "distances = np.sqrt(np.sum((color_matrix - colors['red'])**2, axis=1))\n",
        "dataframe1 = dataframe_color\n",
        "dataframe1['distances']=distances\n",
        "dataframe1[(dataframe1['distances']>(dist3-1))&(dataframe1['distances']<(dist3+1))]"
      ]
    },
    {
      "cell_type": "code",
      "execution_count": null,
      "id": "2deb864c",
      "metadata": {
        "id": "2deb864c"
      },
      "outputs": [],
      "source": []
    },
    {
      "cell_type": "code",
      "execution_count": null,
      "id": "6f729066",
      "metadata": {
        "colab": {
          "base_uri": "https://localhost:8080/",
          "height": 520
        },
        "id": "6f729066",
        "outputId": "26cf63c5-21d5-4e43-90c3-6603b13c7697"
      },
      "outputs": [],
      "source": [
        "distances = np.sqrt(np.sum((color_matrix - colors['blue'])**2, axis=1))\n",
        "dataframe1 = dataframe_color\n",
        "dataframe1['distances']=distances\n",
        "dataframe1[(dataframe1['distances']>(dist3-1))&(dataframe1['distances']<(dist3+1))]"
      ]
    },
    {
      "cell_type": "code",
      "execution_count": null,
      "id": "1f1043c3",
      "metadata": {
        "colab": {
          "base_uri": "https://localhost:8080/",
          "height": 824
        },
        "id": "1f1043c3",
        "outputId": "cfb92f53-80ba-40fc-c6da-ccc2a2eb8cd2"
      },
      "outputs": [],
      "source": [
        "x=0;y=0\n",
        "%matplotlib inline\n",
        "\n",
        "plt.scatter(x, y+1, s=800, color=to_hex(ref_color))\n",
        "\n",
        "for i in range(0,extraction.shape[0]):\n",
        "    colorname = extraction.iloc[i,0]\n",
        "    rgb_vect=extraction.iloc[i,1]  # estrae i codici rgb\n",
        "    print(colorname)\n",
        "    plt.scatter(x, y, s=800,c=rgb_vect, label=colorname)\n",
        "    x=x+20\n",
        "plt.legend()\n",
        "plt.show()"
      ]
    },
    {
      "cell_type": "markdown",
      "id": "3e3e5d6f",
      "metadata": {
        "id": "3e3e5d6f"
      },
      "source": [
        "### Interlude: A Love Poem That Loses Its Way"
      ]
    },
    {
      "cell_type": "code",
      "execution_count": null,
      "id": "5056f3c8",
      "metadata": {
        "colab": {
          "base_uri": "https://localhost:8080/"
        },
        "id": "5056f3c8",
        "outputId": "dc3c3693-7d3e-4689-ed6d-44f4990a6bde"
      },
      "outputs": [],
      "source": [
        "import random\n",
        "red = colors['red']\n",
        "blue = colors['blue']\n",
        "for i in range(14):\n",
        "    ind1 = closest_indices(red,color_matrix,10)\n",
        "    rednames = dataframe_color.iloc[ind1,:]['color'].values\n",
        "    ind2 = closest_indices(blue,color_matrix,10)\n",
        "    bluenames = dataframe_color.iloc[ind2,:]['color'].values\n",
        "   # bluenames = closest(colors, blue)\n",
        "    print (\"Roses are \" + rednames[0] + \", violets are \" + bluenames[0])\n",
        "    red = colors[random.choice(rednames[1:])]\n",
        "    blue = colors[random.choice(bluenames[1:])]"
      ]
    },
    {
      "cell_type": "markdown",
      "id": "9faaa1a7",
      "metadata": {
        "id": "9faaa1a7"
      },
      "source": [
        "### Fare brutte discipline umanistiche digitali con i vettori di colore\n",
        "\n",
        "Con gli strumenti di cui sopra in mano, possiamo iniziare a utilizzare la nostra conoscenza vettorializzata del linguaggio per fini accademici. Nell'esempio seguente, calcolerò il colore medio di *Dracula* di Bram Stoker.\n",
        "\n",
        "(Prima di procedere, assicurati di [scaricare il file di testo dal Progetto Gutenberg](http://www.gutenberg.org/cache/epub/345/pg345.txt) e posizionarlo nella stessa directory di questo taccuino.)\n",
        "\n",
        "Innanzitutto, caricheremo [spaCy](https://spacy.io/):"
      ]
    },
    {
      "cell_type": "code",
      "execution_count": null,
      "id": "58132f13",
      "metadata": {
        "colab": {
          "base_uri": "https://localhost:8080/"
        },
        "id": "58132f13",
        "outputId": "fc1aad08-5732-43fc-fdfd-f80de56543fd"
      },
      "outputs": [],
      "source": [
        "#! pip install spacy"
      ]
    },
    {
      "cell_type": "code",
      "execution_count": null,
      "id": "d9ab523f",
      "metadata": {
        "id": "d9ab523f"
      },
      "outputs": [],
      "source": [
        "import spacy\n",
        "nlp = spacy.load('en_core_web_sm')"
      ]
    },
    {
      "cell_type": "code",
      "execution_count": null,
      "id": "4b5fa2e2",
      "metadata": {
        "colab": {
          "base_uri": "https://localhost:8080/"
        },
        "id": "4b5fa2e2",
        "outputId": "6017e413-6774-4278-b3e1-896554c00aa0"
      },
      "outputs": [],
      "source": [
        "import urllib.request\n",
        "\n",
        "url = \"https://raw.githubusercontent.com/giandopal/Artificial-Intelligence-with-Python/main/data/pg345.txt\"  # URL del file da scaricare\n",
        "filename = \"pg345.txt\"  # Nome del file in locale\n",
        "urllib.request.urlretrieve(url, filename)  # Scarica il file e salva in locale"
      ]
    },
    {
      "cell_type": "code",
      "execution_count": null,
      "id": "2460a13f",
      "metadata": {
        "id": "2460a13f"
      },
      "outputs": [],
      "source": [
        "doc = nlp(open(\"./pg345.txt\", encoding=\"utf8\").read())"
      ]
    },
    {
      "cell_type": "code",
      "execution_count": null,
      "id": "59e570e6",
      "metadata": {
        "colab": {
          "base_uri": "https://localhost:8080/"
        },
        "id": "59e570e6",
        "outputId": "2a475213-bf93-423b-bcc0-403ea328ffd6",
        "scrolled": true
      },
      "outputs": [],
      "source": [
        "doc"
      ]
    },
    {
      "cell_type": "code",
      "execution_count": null,
      "id": "60491c52",
      "metadata": {
        "id": "60491c52"
      },
      "outputs": [],
      "source": []
    },
    {
      "cell_type": "markdown",
      "id": "f535d7b3",
      "metadata": {
        "id": "f535d7b3"
      },
      "source": [
        "Cerchiamo nel testo le parole corrispondenti ai colori. Se le troviamo le mettiamo in una lista"
      ]
    },
    {
      "cell_type": "code",
      "execution_count": null,
      "id": "9036c324",
      "metadata": {
        "id": "9036c324"
      },
      "outputs": [],
      "source": [
        "a = [word.lower_ for word in doc if word.lower_ in colors]"
      ]
    },
    {
      "cell_type": "code",
      "execution_count": null,
      "id": "a1a90afc",
      "metadata": {
        "colab": {
          "base_uri": "https://localhost:8080/"
        },
        "id": "a1a90afc",
        "outputId": "f8688536-47e7-46de-b6f7-46493800ecfb"
      },
      "outputs": [],
      "source": [
        "a"
      ]
    },
    {
      "cell_type": "code",
      "execution_count": null,
      "id": "e2b159c7",
      "metadata": {
        "id": "e2b159c7"
      },
      "outputs": [],
      "source": []
    },
    {
      "cell_type": "code",
      "execution_count": null,
      "id": "8efd76ee",
      "metadata": {
        "id": "8efd76ee"
      },
      "outputs": [],
      "source": [
        "# se voglio vedere i nomi estratti\n",
        "# a = [word.lower_ for word in doc if word.lower_ in colors]"
      ]
    },
    {
      "cell_type": "code",
      "execution_count": null,
      "id": "d2efccc8",
      "metadata": {
        "colab": {
          "base_uri": "https://localhost:8080/"
        },
        "id": "d2efccc8",
        "outputId": "6030366a-c4c9-4ac1-aca8-a70faff625e6"
      },
      "outputs": [],
      "source": [
        "# use word.lower_ to normalize case\n",
        "drac_colors = [colors[word.lower_] for word in doc if word.lower_ in colors]\n",
        "drac_colors"
      ]
    },
    {
      "cell_type": "markdown",
      "id": "33d76c83",
      "metadata": {
        "id": "33d76c83"
      },
      "source": [
        "Calcolo il colore medio"
      ]
    },
    {
      "cell_type": "code",
      "execution_count": null,
      "id": "2780b315",
      "metadata": {
        "colab": {
          "base_uri": "https://localhost:8080/"
        },
        "id": "2780b315",
        "outputId": "71cd819e-eae9-46ef-febf-bf686ff32580"
      },
      "outputs": [],
      "source": [
        "total = np.zeros(3)\n",
        "for colorl in drac_colors:\n",
        "    total = total + colorl\n",
        "\n",
        "avg_color = 1/(len(drac_colors))*total\n",
        "print (avg_color)"
      ]
    },
    {
      "cell_type": "markdown",
      "id": "9db1ac54",
      "metadata": {
        "id": "9db1ac54"
      },
      "source": [
        "Ora, passeremo il vettore di colore medio alla funzione `closest()`, ottenendo... beh, è solo una poltiglia marrone, che è un po' quello che ti aspetteresti sommando un mucchio di colori insieme, volenti o nolenti."
      ]
    },
    {
      "cell_type": "code",
      "execution_count": null,
      "id": "5ba4fc6a",
      "metadata": {
        "colab": {
          "base_uri": "https://localhost:8080/",
          "height": 206
        },
        "id": "5ba4fc6a",
        "outputId": "7adeac8b-8a59-445c-d15f-5341cf206d80"
      },
      "outputs": [],
      "source": [
        "k_nearest = 5\n",
        "cind4 = closest_indices(avg_color,color_matrix,k_nearest)\n",
        "dataframe_color.iloc[cind4,:]\n"
      ]
    },
    {
      "cell_type": "markdown",
      "id": "5214b0c6",
      "metadata": {
        "id": "5214b0c6"
      },
      "source": [
        "D'altra parte, ecco cosa otteniamo quando calcoliamo la media dei colori del classico *The Yellow Wallpaper* di Charlotte Perkins Gilman. ([Scarica da qui](http://www.gutenberg.org/cache/epub/1952/pg1952.txt) e salva nella stessa directory di questo taccuino se vuoi seguire.) Il risultato riflette decisamente il contenuto della storia, quindi forse siamo a qualcosa qui."
      ]
    },
    {
      "cell_type": "code",
      "execution_count": null,
      "id": "8ff1fb28",
      "metadata": {
        "id": "8ff1fb28",
        "outputId": "239a94d2-d043-4141-9a81-5707304324ec"
      },
      "outputs": [],
      "source": [
        "import urllib.request\n",
        "\n",
        "url = \"https://raw.githubusercontent.com/giandopal/Artificial-Intelligence-with-Python/main/data/pg1952.txt\"  # URL del file da scaricare\n",
        "filename = \"pg1952.txt\"  # Nome del file in locale\n",
        "urllib.request.urlretrieve(url, filename)  # Scarica il file e salva in locale"
      ]
    },
    {
      "cell_type": "code",
      "execution_count": null,
      "id": "e11332cd",
      "metadata": {
        "id": "e11332cd"
      },
      "outputs": [],
      "source": [
        "doc2 = nlp(open(\"pg1952.txt\", encoding=\"utf8\").read())"
      ]
    },
    {
      "cell_type": "code",
      "execution_count": null,
      "id": "44e27fe5",
      "metadata": {
        "id": "44e27fe5"
      },
      "outputs": [],
      "source": [
        "a = [word.lower_ for word in doc2 if word.lower_ in colors]"
      ]
    },
    {
      "cell_type": "code",
      "execution_count": null,
      "id": "3c725502",
      "metadata": {
        "id": "3c725502",
        "outputId": "4f31acd7-2ac3-44cc-e539-a29a8a3f5830"
      },
      "outputs": [],
      "source": [
        "a"
      ]
    },
    {
      "cell_type": "code",
      "execution_count": null,
      "id": "dce2cebc",
      "metadata": {
        "id": "dce2cebc",
        "outputId": "63bddf0e-bac5-4207-e2be-3e4f31188331"
      },
      "outputs": [],
      "source": [
        "# use word.lower_ to normalize case\n",
        "drac_colors1 = [colors[word.lower_] for word in doc2 if word.lower_ in colors]\n",
        "drac_colors1"
      ]
    },
    {
      "cell_type": "code",
      "execution_count": null,
      "id": "4b5df36e",
      "metadata": {
        "id": "4b5df36e",
        "outputId": "57fc3d7f-165e-4f09-abaa-9d6132032d21"
      },
      "outputs": [],
      "source": [
        "total = np.zeros(3)\n",
        "for colorl in drac_colors1:\n",
        "    total = total + colorl\n",
        "\n",
        "avg_color = 1/(len(drac_colors1))*total\n",
        "print (avg_color)"
      ]
    },
    {
      "cell_type": "code",
      "execution_count": null,
      "id": "e3880b7c",
      "metadata": {
        "id": "e3880b7c",
        "outputId": "4364a92f-f62b-4c30-c42c-32fe50a09719"
      },
      "outputs": [],
      "source": [
        "k_nearest = 5\n",
        "cind4 = closest_indices(avg_color,color_matrix,k_nearest)\n",
        "dataframe_color.iloc[cind4,:]"
      ]
    },
    {
      "cell_type": "code",
      "execution_count": null,
      "id": "791698b6",
      "metadata": {
        "id": "791698b6"
      },
      "outputs": [],
      "source": []
    },
    {
      "cell_type": "markdown",
      "id": "7f446c15",
      "metadata": {
        "id": "7f446c15"
      },
      "source": [
        "Exercise for the reader: Use the vector arithmetic functions to rewrite a text, making it...\n",
        "\n",
        "* more blue (i.e., add `colors['blue']` to each occurrence of a color word); or\n",
        "* more light (i.e., add `colors['white']` to each occurrence of a color word); or\n",
        "* darker (i.e., attenuate each color. You might need to write a vector multiplication function to do this one right.)"
      ]
    },
    {
      "cell_type": "code",
      "execution_count": null,
      "id": "95e3038a",
      "metadata": {
        "id": "95e3038a"
      },
      "outputs": [],
      "source": []
    },
    {
      "cell_type": "markdown",
      "id": "e8b2d144",
      "metadata": {
        "id": "e8b2d144"
      },
      "source": [
        "## Distributional Semantics\n",
        "\n",
        "Nella sezione precedente, gli esempi sono interessanti per un semplice fatto: i colori che consideriamo simili sono \"più vicini\" tra loro nello spazio vettoriale RGB. Nel nostro spazio vettoriale dei colori, o nel nostro spazio degli animali, puoi pensare alle parole identificate da vettori vicini l'uno all'altro come *sinonimi*, nel senso che \"significano\" la stessa cosa. Sono anche, per molti versi, *funzionalmente identici*.\n",
        "\n",
        "Se estendiamo questa similitudine alla scrittura, per es. pensiamo ad un motore di ricerca, se qualcuno cerca \"mauve trousers\" (pantaloni color malva), probabilmente potrebbe andare bene anche mostrare i risultati come di seguito proposto:"
      ]
    },
    {
      "cell_type": "code",
      "execution_count": null,
      "id": "e5e36c3c",
      "metadata": {
        "id": "e5e36c3c",
        "outputId": "7192373b-e17c-4873-ad7d-1201008cd412"
      },
      "outputs": [],
      "source": [
        "ind5 = closest_indices(colors['mauve'], color_matrix,10)\n",
        "for cname in dataframe_color.iloc[ind5,0].values:\n",
        "    print (cname + \" trouser\")"
      ]
    },
    {
      "cell_type": "code",
      "execution_count": null,
      "id": "79aeb7c9",
      "metadata": {
        "id": "79aeb7c9"
      },
      "outputs": [],
      "source": []
    },
    {
      "cell_type": "code",
      "execution_count": null,
      "id": "438b1140",
      "metadata": {
        "id": "438b1140",
        "outputId": "02c3c1fa-9f87-4d48-b8d3-bb7c9319f023"
      },
      "outputs": [],
      "source": [
        "extraction = dataframe_color.iloc[ind5,:]\n",
        "x=0;y=0\n",
        "%matplotlib inline\n",
        "ref_vector = colors['mauve']\n",
        "ref_color = 1/255.0*ref_vector\n",
        "plt.scatter(x, y+1, s=800, color=to_hex(ref_color))\n",
        "\n",
        "for i in range(0,extraction.shape[0]):\n",
        "    colorname = extraction.iloc[i,0]\n",
        "    rgb_vect=extraction.iloc[i,1]  # estrae i codici rgb\n",
        "    print(colorname)\n",
        "    plt.scatter(x, y, s=800,c=rgb_vect, label=colorname)\n",
        "    x=x+20\n",
        "\n",
        "plt.legend()\n",
        "plt.show()"
      ]
    },
    {
      "cell_type": "code",
      "execution_count": null,
      "id": "bc9413e2",
      "metadata": {
        "id": "bc9413e2"
      },
      "outputs": [],
      "source": []
    },
    {
      "cell_type": "markdown",
      "id": "1a3b3023",
      "metadata": {
        "id": "1a3b3023"
      },
      "source": [
        "Va tutto bene per le parole che si riferiscono ai colori, che intuitivamente sembrano esistere in un continuum multidimensionale relativo alla percezione. Ma che dire delle... parole arbitrarie? È possibile creare uno spazio vettoriale per tutte le parole inglesi che abbia la stessa proprietà \"più vicino nello spazio significa più vicino nel significato\"?\n",
        "\n",
        "Per rispondere a questa domanda, dobbiamo fare un passo indietro e porci la domanda: cosa significa *significato*?\n",
        "\n",
        "Nessuno lo sa veramente, ma una teoria diffusa tra linguisti computazionali, informatici e altri ricercatori che creano motori di ricerca è l'[Ipotesi distributiva](https://en.wikipedia.org/wiki/Distributional_semantics), che afferma che:\n",
        "\n",
        "     Gli elementi linguistici con distribuzioni simili hanno significati simili.\n",
        "    \n",
        "Ciò che si intende per \"distribuzioni simili\" è *contesti simili*. Prendiamo ad esempio le seguenti frasi:\n",
        "\n",
        "    It was really cold yesterday.\n",
        "    It will be really warm today, though.\n",
        "    It'll be really hot tomorrow!\n",
        "    Will it be really cool Tuesday?\n",
        "    \n",
        "Secondo l'ipotesi distributiva, le parole \"cold\", \"warm\", \"hot\" e \"cool\" devono essere correlate in qualche modo (cioè avere un significato vicino) perché ricorrono in un contesto simile, cioè tra la parola \"really\" e una parola che indica un giorno particolare. (Allo stesso modo, le parole \"yesterday\", \"today\", \"tomorrow\" e \"tuesday\" devono essere correlate, poiché ricorrono nel contesto di una parola che indica una temperatura.)\n",
        "\n",
        "In altre parole, secondo l'ipotesi distributiva, il significato di una parola è solo un lungo elenco di tutti i contesti in cui ricorre. Due parole hanno un significato più vicino se condividono i contesti."
      ]
    }
  ],
  "metadata": {
    "colab": {
      "provenance": []
    },
    "hide_input": false,
    "kernelspec": {
      "display_name": "base",
      "language": "python",
      "name": "python3"
    },
    "language_info": {
      "codemirror_mode": {
        "name": "ipython",
        "version": 3
      },
      "file_extension": ".py",
      "mimetype": "text/x-python",
      "name": "python",
      "nbconvert_exporter": "python",
      "pygments_lexer": "ipython3",
      "version": "3.12.4"
    },
    "varInspector": {
      "cols": {
        "lenName": 16,
        "lenType": 16,
        "lenVar": 40
      },
      "kernels_config": {
        "python": {
          "delete_cmd_postfix": "",
          "delete_cmd_prefix": "del ",
          "library": "var_list.py",
          "varRefreshCmd": "print(var_dic_list())"
        },
        "r": {
          "delete_cmd_postfix": ") ",
          "delete_cmd_prefix": "rm(",
          "library": "var_list.r",
          "varRefreshCmd": "cat(var_dic_list()) "
        }
      },
      "types_to_exclude": [
        "module",
        "function",
        "builtin_function_or_method",
        "instance",
        "_Feature"
      ],
      "window_display": false
    }
  },
  "nbformat": 4,
  "nbformat_minor": 5
}
