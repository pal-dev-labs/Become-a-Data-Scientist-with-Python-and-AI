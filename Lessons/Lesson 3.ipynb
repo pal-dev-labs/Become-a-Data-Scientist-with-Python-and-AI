{
 "cells": [
  {
   "cell_type": "markdown",
   "id": "8ba29bd8",
   "metadata": {},
   "source": [
    "# A quick recap\n",
    "We have seen how to generate vectors and matrices with numpy module"
   ]
  },
  {
   "cell_type": "code",
   "execution_count": null,
   "id": "bbb8890c",
   "metadata": {},
   "outputs": [],
   "source": [
    "import numpy as np\n",
    "x = np.linspace(-10, 10, 100)\n",
    "y1 = x**2\n",
    "y2 = 2*x+3"
   ]
  },
  {
   "cell_type": "code",
   "execution_count": null,
   "id": "3b549425",
   "metadata": {},
   "outputs": [],
   "source": [
    "x"
   ]
  },
  {
   "cell_type": "markdown",
   "id": "3dfff4f6",
   "metadata": {},
   "source": [
    "# MATPLOTLIB: the module to plot data "
   ]
  },
  {
   "cell_type": "code",
   "execution_count": null,
   "id": "7e36176e",
   "metadata": {
    "tags": []
   },
   "outputs": [],
   "source": [
    "import matplotlib.pyplot as plt\n"
   ]
  },
  {
   "cell_type": "code",
   "execution_count": null,
   "id": "0d1ff75b",
   "metadata": {
    "tags": []
   },
   "outputs": [],
   "source": [
    "fig = plt.figure()   # create a container that host the picture\n",
    "\n",
    "plt.plot(x, y1, '-')\n",
    "plt.plot(x, y2, '--');"
   ]
  },
  {
   "cell_type": "code",
   "execution_count": null,
   "id": "10a76280",
   "metadata": {
    "tags": []
   },
   "outputs": [],
   "source": [
    "# save fig\n",
    "fig.savefig('my_figure.png')"
   ]
  },
  {
   "cell_type": "code",
   "execution_count": null,
   "id": "4b681afc",
   "metadata": {
    "tags": []
   },
   "outputs": [],
   "source": [
    "!ls -lh my_figure.png"
   ]
  },
  {
   "cell_type": "code",
   "execution_count": null,
   "id": "1847e12d",
   "metadata": {
    "tags": []
   },
   "outputs": [],
   "source": [
    "!pwd"
   ]
  },
  {
   "cell_type": "markdown",
   "id": "877f1a7f",
   "metadata": {},
   "source": [
    "we can import an image"
   ]
  },
  {
   "cell_type": "code",
   "execution_count": null,
   "id": "dfdc3d97",
   "metadata": {
    "tags": []
   },
   "outputs": [],
   "source": [
    "from IPython.display import Image\n",
    "Image('my_figure.png')"
   ]
  },
  {
   "cell_type": "markdown",
   "id": "6dba6dbb",
   "metadata": {},
   "source": [
    "we can change colors"
   ]
  },
  {
   "cell_type": "code",
   "execution_count": null,
   "id": "8fd2ecd9",
   "metadata": {
    "tags": []
   },
   "outputs": [],
   "source": [
    "plt.plot(x, x + 0, linestyle='solid')\n",
    "plt.plot(x, x + 1, linestyle='dashed')\n",
    "plt.plot(x, x + 2, linestyle='dashdot')\n",
    "plt.plot(x, x + 3, linestyle='dotted');\n",
    "\n",
    "# For short, you can use the following codes:\n",
    "plt.plot(x, x + 4, linestyle='-')  # solid\n",
    "plt.plot(x, x + 5, linestyle='--') # dashed\n",
    "plt.plot(x, x + 6, linestyle='-.') # dashdot\n",
    "plt.plot(x, x + 7, linestyle=':');  # dotted"
   ]
  },
  {
   "cell_type": "code",
   "execution_count": null,
   "id": "14a4fa95",
   "metadata": {},
   "outputs": [],
   "source": []
  },
  {
   "cell_type": "code",
   "execution_count": null,
   "id": "d2ba7f0f",
   "metadata": {
    "tags": []
   },
   "outputs": [],
   "source": [
    "plt.plot(x, np.sin(x - 0), linestyle='dashed',color='blue')        # specify color by name\n",
    "plt.plot(x, np.sin(x - 1), color='g')           # short color code (rgbcmyk)\n",
    "plt.plot(x, np.sin(x - 2), color='0.75')        # Grayscale between 0 and 1\n",
    "plt.plot(x, np.sin(x - 3), color='#FFDD44')     # Hex code (RRGGBB from 00 to FF)\n",
    "plt.plot(x, np.sin(x - 4), color=(1.0,0.2,0.3)) # RGB tuple, values 0 to 1\n",
    "plt.plot(x, np.sin(x - 5), color='chartreuse'); # all HTML color names supported"
   ]
  },
  {
   "cell_type": "markdown",
   "id": "8da4c35b",
   "metadata": {},
   "source": [
    "combine"
   ]
  },
  {
   "cell_type": "code",
   "execution_count": null,
   "id": "e655f7d3",
   "metadata": {
    "tags": []
   },
   "outputs": [],
   "source": [
    "plt.plot(x, x + 0, '-g')  # solid green\n",
    "plt.plot(x, x + 1, '--c') # dashed cyan\n",
    "plt.plot(x, x + 2, '-.k') # dashdot black\n",
    "plt.plot(x, x + 3, ':r');  # dotted red"
   ]
  },
  {
   "cell_type": "code",
   "execution_count": null,
   "id": "c58db2e6",
   "metadata": {},
   "outputs": [],
   "source": []
  },
  {
   "cell_type": "code",
   "execution_count": null,
   "id": "d55e8a5d",
   "metadata": {
    "tags": []
   },
   "outputs": [],
   "source": [
    "# set xlim and ylim and a grid\n",
    "\n",
    "plt.plot(x, y1)\n",
    "\n",
    "plt.xlim(-10, 11)\n",
    "plt.ylim(-10, 10);\n",
    "plt.grid(True)\n"
   ]
  },
  {
   "cell_type": "markdown",
   "id": "78c87186",
   "metadata": {},
   "source": [
    "Another useful method is ``plt.axis()`` (be careful about possible confusion between *axes* with an *e*, and *axis* with an *i*).\n",
    "The ``plt.axis()`` method allows you to set the ``x`` and ``y`` limits with a single call, passing a list specifying ``[xmin, xmax, ymin, ymax] `` :"
   ]
  },
  {
   "cell_type": "code",
   "execution_count": null,
   "id": "f8020dab",
   "metadata": {},
   "outputs": [],
   "source": [
    "plt.plot(x, y1)\n",
    "plt.axis([-10, 11, -1.5, 31.5]);"
   ]
  },
  {
   "cell_type": "markdown",
   "id": "c42dcd37",
   "metadata": {},
   "source": [
    "Let's see how to plot information on Cartesian axes"
   ]
  },
  {
   "cell_type": "code",
   "execution_count": null,
   "id": "74461355",
   "metadata": {
    "tags": []
   },
   "outputs": [],
   "source": [
    "plt.plot(x, y1)\n",
    "plt.title(\"Motion\")\n",
    "plt.xlabel(\"Time (s)\")\n",
    "plt.ylabel(\"Space(m)\");"
   ]
  },
  {
   "cell_type": "markdown",
   "id": "bbe80768",
   "metadata": {},
   "source": [
    "When multiple lines are displayed, it may be helpful to create a chart legend that labels each line type.\n",
    "Again, Matplotlib has a built-in way to quickly create such a legend.\n",
    "It is done via the ``plt.legend()`` method.\n",
    "While there are several valid ways to use it, I find it easiest to specify the label of each row using the plot function's ``label`` keyword:"
   ]
  },
  {
   "cell_type": "code",
   "execution_count": null,
   "id": "bf0779d4",
   "metadata": {
    "tags": []
   },
   "outputs": [],
   "source": [
    "plt.plot(x, np.sin(x), '-g', label='sin(x)')\n",
    "plt.plot(x, np.cos(x), ':b', label='cos(x)')\n",
    "\n",
    "#plt.legend();\n",
    "plt.legend(loc='lower right', fontsize=8);"
   ]
  },
  {
   "cell_type": "markdown",
   "id": "77dcfde5",
   "metadata": {},
   "source": [
    "Figure size"
   ]
  },
  {
   "cell_type": "code",
   "execution_count": null,
   "id": "0b75e820",
   "metadata": {
    "tags": []
   },
   "outputs": [],
   "source": [
    "# resize image\n",
    "plt.figure(figsize=(11,10))\n",
    "plt.plot(x,y)"
   ]
  },
  {
   "cell_type": "code",
   "execution_count": null,
   "id": "28b7d633",
   "metadata": {
    "tags": []
   },
   "outputs": [],
   "source": [
    "plt.figure(figsize=(8,3))\n",
    "plt.plot(x,y, label='Component 1')\n",
    "plt.xlabel('Time [s]', fontsize=16)\n",
    "plt.ylabel('Voltage [V]')\n",
    "plt.title('Voltage in 3rd Electrode')\n",
    "plt.legend(loc='lower right', fontsize=12)\n",
    "plt.show()"
   ]
  },
  {
   "cell_type": "markdown",
   "id": "d3c46e22-f5f6-461a-afb8-49087b36f022",
   "metadata": {},
   "source": [
    "# Exercise 1: Plot a Sine Wave\n",
    "\n",
    "### Task:\n",
    "1. Import `matplotlib.pyplot` and `numpy`.\n",
    "2. Create a plot of the sine function $( y = \\sin(x) $) for $( x $) values ranging from $( -2\\pi $) to $( 2\\pi $).\n",
    "3. Label the axes and give the plot a title.\n",
    "4. Add a grid to the plot."
   ]
  },
  {
   "cell_type": "markdown",
   "id": "9a2f7ec5-7d80-4257-b291-46c9a584ddf8",
   "metadata": {},
   "source": [
    "# Exercise 2: Plot a Parabola\n",
    "\n",
    "### Task:\n",
    "1. Plot the quadratic function $( y = x^2 $) for $( x $) values ranging from $(-10$) to $(10$).\n",
    "2. Use a dashed red line for the plot.\n",
    "3. Add a legend with the label \"y = x^2\".\n",
    "4. Customize the x-axis and y-axis limits to display the plot properly.\n",
    "5. Add a title and axis labels.\n"
   ]
  },
  {
   "cell_type": "code",
   "execution_count": null,
   "id": "bf7958d8-6115-45e2-a947-a26437081398",
   "metadata": {},
   "outputs": [],
   "source": []
  },
  {
   "cell_type": "markdown",
   "id": "ae1dbb63",
   "metadata": {},
   "source": [
    "# SCATTER PLOT"
   ]
  },
  {
   "cell_type": "markdown",
   "id": "0cbcf779",
   "metadata": {},
   "source": [
    "Another commonly used type of graph is the SCATTER PLOT. Instead of points joined by line segments, here the points are represented individually with a dot, circle, or other shape."
   ]
  },
  {
   "cell_type": "markdown",
   "id": "5965b4b1",
   "metadata": {},
   "source": [
    "# SCATTER PLOT with ``plt.plot``"
   ]
  },
  {
   "cell_type": "code",
   "execution_count": null,
   "id": "14c95225",
   "metadata": {
    "tags": []
   },
   "outputs": [],
   "source": [
    "x = np.linspace(0, 10, 30)\n",
    "y = np.sin(x)\n",
    "\n",
    "plt.plot(x, y, 'o', color='black');"
   ]
  },
  {
   "cell_type": "markdown",
   "id": "bf527f96",
   "metadata": {},
   "source": [
    "## Scatter Plots with ``plt.scatter``"
   ]
  },
  {
   "cell_type": "code",
   "execution_count": null,
   "id": "581223f6",
   "metadata": {
    "tags": []
   },
   "outputs": [],
   "source": [
    "plt.scatter(x, y, marker='o');"
   ]
  },
  {
   "cell_type": "markdown",
   "id": "d0d1ddbe",
   "metadata": {},
   "source": [
    "The main difference between ``plt.scatter`` and ``plt.plot`` is that the former can be used to create scatter plots where the properties of each individual point (size, face color, edge color, etc. .) can be individually controlled or mapped to data.\n",
    "\n",
    "Let's see an example\n",
    "To better see the overlaid results, we will also use the ``alpha`` keyword to adjust the transparency level:"
   ]
  },
  {
   "cell_type": "code",
   "execution_count": null,
   "id": "797b6f97",
   "metadata": {
    "tags": []
   },
   "outputs": [],
   "source": [
    "rng.randn(100)"
   ]
  },
  {
   "cell_type": "code",
   "execution_count": null,
   "id": "345a55ff",
   "metadata": {
    "tags": []
   },
   "outputs": [],
   "source": [
    "rng = np.random.RandomState(0)\n",
    "x = rng.randn(100) # generate 100 random numbers between -1 and 1\n",
    "y = rng.randn(100)\n",
    "colors = rng.rand(100) # generate 100 random numbers betwee 0 and 1\n",
    "sizes = 1000 * rng.rand(100) # generate 100 random numbers betwee 0 and 1000\n",
    "\n",
    "plt.scatter(x, y, c=colors, s=sizes, alpha=0.2,\n",
    "            cmap='viridis')\n",
    "plt.colorbar();  # show color scale"
   ]
  },
  {
   "cell_type": "markdown",
   "id": "f0fe162e",
   "metadata": {},
   "source": [
    "Note that the color argument is automatically mapped to a color scale (shown here by the ``colorbar()`` command), and that the size argument is given in pixels.\n",
    "In this way, the color and size of the dots can be used to convey information in the visualization, in order to display multidimensional data."
   ]
  },
  {
   "cell_type": "code",
   "execution_count": null,
   "id": "9d81d8af",
   "metadata": {},
   "outputs": [],
   "source": []
  },
  {
   "cell_type": "markdown",
   "id": "288c83a7",
   "metadata": {},
   "source": [
    "# Three-Dimensional Plotting in Matplotlib"
   ]
  },
  {
   "cell_type": "markdown",
   "id": "13e432cb",
   "metadata": {},
   "source": [
    "Matplotlib was initially designed with only two-dimensional printing in mind.\n",
    "Three-dimensional plots are enabled by importing the ``mplot3d`` toolkit, included with the main Matplotlib installation:"
   ]
  },
  {
   "cell_type": "code",
   "execution_count": null,
   "id": "1b82ecaa",
   "metadata": {
    "tags": []
   },
   "outputs": [],
   "source": [
    "from mpl_toolkits import mplot3d"
   ]
  },
  {
   "cell_type": "code",
   "execution_count": null,
   "id": "a890f05d",
   "metadata": {
    "tags": []
   },
   "outputs": [],
   "source": [
    "fig = plt.figure()\n",
    "ax = plt.axes(projection='3d')"
   ]
  },
  {
   "cell_type": "markdown",
   "id": "749151ee",
   "metadata": {},
   "source": [
    "## Three-dimensional points and lines\n",
    "\n",
    "The most basic three-dimensional graph is a line or collection of scatter plots created from sets of triples (x, y, z).\n",
    "In analogy with the more common two-dimensional plots discussed above, these can be created using the ``ax.plot3D`` and ``ax.scatter3D`` functions.\n",
    "\n",
    "Let's try drawing a trigonometric spiral, along with some points drawn randomly near the line:"
   ]
  },
  {
   "cell_type": "code",
   "execution_count": null,
   "id": "7bbe34d3",
   "metadata": {
    "tags": []
   },
   "outputs": [],
   "source": [
    "plt.figure(figsize=(10,10))\n",
    "\n",
    "ax = plt.axes(projection='3d')\n",
    "\n",
    "# Data for a three-dimensional line\n",
    "zline = np.linspace(0, 15, 1000)\n",
    "xline = np.sin(zline)\n",
    "yline = np.cos(zline)\n",
    "ax.plot3D(xline, yline, zline, 'gray')\n",
    "\n",
    "# Data for three-dimensional scattered points\n",
    "zdata = 15 * np.random.random(100)\n",
    "xdata = np.sin(zdata) + 0.1 * np.random.randn(100)\n",
    "ydata = np.cos(zdata) + 0.1 * np.random.randn(100)\n",
    "ax.scatter3D(xdata, ydata, zdata, c=zdata, cmap='Greens');"
   ]
  },
  {
   "cell_type": "markdown",
   "id": "6fc15b48",
   "metadata": {},
   "source": [
    "Note that by default, scatter points have their transparency adjusted to give a sense of depth to the page.\n",
    "While the three-dimensional effect is sometimes difficult to see within a static image, an interactive view can lead to some nice intuition about the arrangement of dots."
   ]
  },
  {
   "cell_type": "code",
   "execution_count": null,
   "id": "a774fc3b",
   "metadata": {
    "tags": []
   },
   "outputs": [],
   "source": [
    "def f(x, y):\n",
    "    return np.sin(np.sqrt(x ** 2 + y ** 2))\n",
    "\n",
    "x = np.linspace(-6, 6, 30)\n",
    "y = np.linspace(-6, 6, 30)\n",
    "\n",
    "X, Y = np.meshgrid(x, y)\n",
    "Z = f(X, Y)"
   ]
  },
  {
   "cell_type": "code",
   "execution_count": null,
   "id": "17c98c1d",
   "metadata": {},
   "outputs": [],
   "source": [
    "# %matplotlib inline\n",
    "# %matplotlib notebook\n"
   ]
  },
  {
   "cell_type": "code",
   "execution_count": null,
   "id": "628c8b8c",
   "metadata": {
    "tags": []
   },
   "outputs": [],
   "source": [
    "%matplotlib inline\n",
    "fig = plt.figure()\n",
    "#plt.figure(figsize=(10,10))\n",
    "ax = plt.axes(projection='3d')\n",
    "ax.contour3D(X, Y, Z, 50, cmap='viridis')\n",
    "ax.set_xlabel('x')\n",
    "ax.set_ylabel('y')\n",
    "ax.set_zlabel('z');"
   ]
  },
  {
   "cell_type": "markdown",
   "id": "8a763eff",
   "metadata": {},
   "source": [
    "Sometimes the default viewing angle is not optimal, in which case we can use the view_init method to set the elevation and azimuth angles. In the following example, we will use an elevation of 60 degrees (i.e. 60 degrees above the x-y plane) and an azimuth of 35 degrees (i.e. rotated 35 degrees counterclockwise from the z-axis):"
   ]
  },
  {
   "cell_type": "markdown",
   "id": "11bdcb23",
   "metadata": {},
   "source": [
    "# Density and Contour Plots"
   ]
  },
  {
   "cell_type": "code",
   "execution_count": null,
   "id": "7591a88c",
   "metadata": {
    "tags": []
   },
   "outputs": [],
   "source": [
    "def f(x, y):\n",
    "    return np.sin(x) ** 10 + np.cos(10 + y * x) * np.cos(x)"
   ]
  },
  {
   "cell_type": "code",
   "execution_count": null,
   "id": "17753f50",
   "metadata": {
    "tags": []
   },
   "outputs": [],
   "source": [
    "x = np.linspace(0, 5, 50)\n",
    "y = np.linspace(0, 5, 40)\n",
    "\n",
    "X, Y = np.meshgrid(x, y)\n",
    "Z = f(X, Y)"
   ]
  },
  {
   "cell_type": "code",
   "execution_count": null,
   "id": "cedbdf07",
   "metadata": {
    "tags": []
   },
   "outputs": [],
   "source": [
    "plt.figure(figsize=(10,10))\n",
    "ax = plt.axes(projection='3d')\n",
    "ax.plot_surface(X, Y, Z, rstride=1, cstride=1,\n",
    "                cmap='ocean', edgecolor='none')\n",
    "ax.set_title('surface');"
   ]
  },
  {
   "cell_type": "markdown",
   "id": "a42ef3c5",
   "metadata": {},
   "source": [
    "A contour plot can be created with the ``plt.contour`` function.\n",
    "It takes three arguments: a grid of *x* values, a grid of *y* values, and a grid of *z* values.\n",
    "The *x* and *y* values represent the positions on the graph and the *z* values will be represented by the contour levels.\n",
    "The simplest way to prepare such data is to use the ``np.meshgrid`` function, which constructs two-dimensional grids from one-dimensional arrays:"
   ]
  },
  {
   "cell_type": "code",
   "execution_count": null,
   "id": "676e3c00",
   "metadata": {
    "tags": []
   },
   "outputs": [],
   "source": [
    "plt.contour(X, Y, Z, colors='black');"
   ]
  },
  {
   "cell_type": "code",
   "execution_count": null,
   "id": "478ffa4f",
   "metadata": {
    "tags": []
   },
   "outputs": [],
   "source": [
    "plt.contour(X, Y, Z, 20, cmap='RdGy');"
   ]
  },
  {
   "cell_type": "markdown",
   "id": "dcf37761",
   "metadata": {},
   "source": [
    "The color bar makes it clear that the black regions are \"peaks\", while the red regions are \"valleys\"."
   ]
  },
  {
   "cell_type": "markdown",
   "id": "d4b78e9c",
   "metadata": {},
   "source": [
    "# APPLICATIONS"
   ]
  },
  {
   "cell_type": "markdown",
   "id": "42216a93",
   "metadata": {},
   "source": [
    "**Projectile Motion Equations**\n",
    "\n",
    "Here's a summary of the key equations for projectile motion, neglecting air resistance:\n",
    "\n",
    "* **Horizontal Motion (Constant Velocity):**\n",
    "   *  `x = x₀ + v₀x * t`  \n",
    "   *  `vₓ = v₀x`\n",
    "\n",
    "* **Vertical Motion (Constant Acceleration):**\n",
    "   *  `y = y₀ + v₀y * t - (1/2) * g * t²`\n",
    "   *  `vy = v₀y - g * t`\n",
    "\n",
    "Where:\n",
    "\n",
    "* `x` and `y` are the horizontal and vertical positions at time `t`.\n",
    "* `x₀` and `y₀` are the initial horizontal and vertical positions.\n",
    "* `v₀x` and `v₀y` are the initial horizontal and vertical velocities.\n",
    "* `vₓ` and `vy` are the horizontal and vertical velocities at time `t`.\n",
    "* `g` is the acceleration due to gravity (approximately 9.8 m/s²).\n",
    "* `t` is the time."
   ]
  },
  {
   "cell_type": "code",
   "execution_count": null,
   "id": "51a78896",
   "metadata": {},
   "outputs": [],
   "source": []
  },
  {
   "cell_type": "code",
   "execution_count": null,
   "id": "fe010abe-cfe8-43ec-926d-782b1c76954b",
   "metadata": {},
   "outputs": [],
   "source": [
    "\n",
    "g = 9.81  # gravity\n",
    "v0 = 20   # initial velocity (m/s)\n",
    "\n",
    "v0_x = v0*np.cos(theta) # velocity x-component\n",
    "v0_y = v0*np.sin(theta) # velocity y-component\n",
    "\n",
    "theta = np.radians(45)  # radians \n",
    "\n",
    "v0_x = v0*np.cos(theta)\n",
    "v0_y = v0*np.sin(theta)\n",
    "\n",
    "t = np.linspace(0, 4, num=100)  # time interval\n",
    "x = v0_x * t\n",
    "y = v0_y *  t - 0.5 * g * t**2\n",
    "\n",
    "plt.plot(x, y)\n",
    "plt.xlabel('Distance (m)')\n",
    "plt.ylabel('High (m)')\n",
    "plt.title('Projectile Motion')\n",
    "plt.show()\n"
   ]
  },
  {
   "cell_type": "markdown",
   "id": "559a1ab5",
   "metadata": {},
   "source": [
    "### Central Symmetry Equations\n",
    "\n",
    "In geometry, **central symmetry** refers to a symmetry where every point on a figure is mapped to another point directly opposite to it, relative to a central point (often called the center of symmetry). If we have a point $A(x, y)$ and its symmetric counterpart $A'(x', y')$, the symmetry is described as follows:\n",
    "\n",
    "1. **Equation of Central Symmetry in Two Dimensions**:\n",
    "\n",
    "   Let the center of symmetry be the point $O(x_0, y_0)$. The symmetric point $A'(x', y')$ with respect to $O$ satisfies the following equations:\n",
    "\n",
    "   $$\n",
    "   x' = 2x_0 - x\n",
    "   $$\n",
    "\n",
    "   $$\n",
    "   y' = 2y_0 - y\n",
    "   $$\n",
    "\n",
    "   This means that the coordinates of $A'$ are obtained by reflecting $A$ through the center $O$.\n",
    "\n",
    "**Rotation of 90 Degrees in Two Dimensions**\n",
    "\n",
    "Let point A(x, y) be rotated 90 degrees counterclockwise around a center of rotation C(x₀, y₀). The coordinates of the rotated point A'(x', y') are calculated as follows:\n",
    "\n",
    "$$\n",
    "x' = x₀ - (y - y₀)\n",
    "$$\n",
    "\n",
    "$$\n",
    "y' = y₀ + (x - x₀)\n",
    "$$\n",
    "\n",
    "This transformation effectively rotates point A by 90 degrees counterclockwise about point C.  If the rotation is clockwise, the equations become:\n",
    "\n",
    "$$\n",
    "x' = x₀ + (y - y₀)\n",
    "$$\n",
    "\n",
    "$$\n",
    "y' = y₀ - (x - x₀)\n",
    "$$"
   ]
  },
  {
   "cell_type": "code",
   "execution_count": null,
   "id": "bcc873c6",
   "metadata": {},
   "outputs": [],
   "source": [
    "def central_symmetry(point, center):\n",
    "    \"\"\"Calculates the symmetric point with respect to the center.\"\"\"\n",
    "    return 2 * center - point\n",
    "\n",
    "def rotate_90_degrees(point, center):\n",
    "    \"\"\"Calculates the point rotated 90 degrees counterclockwise \n",
    "    with respect to the center C.\"\"\"\n",
    "\n",
    "    x = center[0] - (point[1] - center[1])\n",
    "    y = center[1] + (point[0] - center[0])\n",
    "    return (x, y)"
   ]
  },
  {
   "cell_type": "code",
   "execution_count": null,
   "id": "38ca8dcc",
   "metadata": {},
   "outputs": [],
   "source": [
    "\n",
    "# Original point P(2,3)\n",
    "original_point = np.array([2,3])\n",
    "\n",
    "# Center of symmetry and rotation C(0,0)\n",
    "center = np.array([0,0])\n",
    "\n",
    "# Calculate central symmetry\n",
    "symmetric_point = central_symmetry(original_point, center)\n",
    "\n",
    "# Calculate 90-degree rotation\n",
    "rotated_point = rotate_90_degrees(original_point, center)\n",
    "\n",
    "# Visualize the results\n",
    "plt.figure(figsize=(6, 6))\n",
    "plt.plot(*original_point, 'o', label='Original Point')\n",
    "plt.plot(*symmetric_point, 'o', label='Central Symmetry')\n",
    "plt.plot(*rotated_point, 'o', label='90-degree Rotation')\n",
    "plt.plot(*center, 'x', label='Center')\n",
    "plt.xlabel('X')\n",
    "plt.ylabel('Y')\n",
    "plt.title('Central Symmetry and 90-degree Rotation')\n",
    "plt.legend()\n",
    "plt.grid(True)\n",
    "plt.show()"
   ]
  }
 ],
 "metadata": {
  "hide_input": false,
  "kernelspec": {
   "display_name": "base",
   "language": "python",
   "name": "python3"
  },
  "language_info": {
   "codemirror_mode": {
    "name": "ipython",
    "version": 3
   },
   "file_extension": ".py",
   "mimetype": "text/x-python",
   "name": "python",
   "nbconvert_exporter": "python",
   "pygments_lexer": "ipython3",
   "version": "3.12.4"
  },
  "varInspector": {
   "cols": {
    "lenName": 16,
    "lenType": 16,
    "lenVar": 40
   },
   "kernels_config": {
    "python": {
     "delete_cmd_postfix": "",
     "delete_cmd_prefix": "del ",
     "library": "var_list.py",
     "varRefreshCmd": "print(var_dic_list())"
    },
    "r": {
     "delete_cmd_postfix": ") ",
     "delete_cmd_prefix": "rm(",
     "library": "var_list.r",
     "varRefreshCmd": "cat(var_dic_list()) "
    }
   },
   "types_to_exclude": [
    "module",
    "function",
    "builtin_function_or_method",
    "instance",
    "_Feature"
   ],
   "window_display": false
  }
 },
 "nbformat": 4,
 "nbformat_minor": 5
}
